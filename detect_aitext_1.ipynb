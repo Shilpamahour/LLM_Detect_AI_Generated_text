{
  "cells": [
    {
      "cell_type": "markdown",
      "id": "50e27e6c",
      "metadata": {
        "id": "50e27e6c",
        "papermill": {
          "duration": 0.014065,
          "end_time": "2024-01-15T14:44:01.089809",
          "exception": false,
          "start_time": "2024-01-15T14:44:01.075744",
          "status": "completed"
        },
        "tags": []
      },
      "source": [
        "#  **LLM DETECT AI GENERATED**\n"
      ]
    },
    {
      "cell_type": "markdown",
      "source": [
        "Importing the required libraries"
      ],
      "metadata": {
        "id": "vtkJzUbCALra"
      },
      "id": "vtkJzUbCALra"
    },
    {
      "cell_type": "code",
      "execution_count": null,
      "id": "814d9426",
      "metadata": {
        "execution": {
          "iopub.execute_input": "2024-01-15T14:44:01.120115Z",
          "iopub.status.busy": "2024-01-15T14:44:01.119674Z",
          "iopub.status.idle": "2024-01-15T14:44:04.145803Z",
          "shell.execute_reply": "2024-01-15T14:44:04.143786Z"
        },
        "id": "814d9426",
        "papermill": {
          "duration": 3.046478,
          "end_time": "2024-01-15T14:44:04.150161",
          "exception": false,
          "start_time": "2024-01-15T14:44:01.103683",
          "status": "completed"
        },
        "tags": []
      },
      "outputs": [],
      "source": [
        "import numpy as np\n",
        "import pandas as pd\n",
        "import re\n",
        "import nltk\n",
        "from nltk.corpus import stopwords\n",
        "from nltk.stem.porter import PorterStemmer\n",
        "from nltk.tokenize import word_tokenize, sent_tokenize\n",
        "from sklearn.feature_extraction.text import TfidfVectorizer\n",
        "from sklearn.model_selection import train_test_split"
      ]
    },
    {
      "cell_type": "markdown",
      "source": [
        "# DATA PREPROCESSING"
      ],
      "metadata": {
        "id": "CF2S4wKcAmRX"
      },
      "id": "CF2S4wKcAmRX"
    },
    {
      "cell_type": "markdown",
      "source": [
        "### We largely depend on nltk tools for data-preprocessing\n",
        "\n",
        "To begin with we are going to define methods for cleaning text(clean_text) where we remove HTML tags, non-alphabetic characters (except whitespace), and convert the text to lowercase.\n",
        "   Also tokenize_sentences and tokenize_words for the tokenization of text data into sentences and words.At the end removing the stop words.\n",
        "  "
      ],
      "metadata": {
        "id": "mguOI5K4AuRC"
      },
      "id": "mguOI5K4AuRC"
    },
    {
      "cell_type": "markdown",
      "source": [],
      "metadata": {
        "id": "0HpO7Ky3AuNr"
      },
      "id": "0HpO7Ky3AuNr"
    },
    {
      "cell_type": "code",
      "execution_count": null,
      "id": "31a25469",
      "metadata": {
        "execution": {
          "iopub.execute_input": "2024-01-15T14:44:04.189696Z",
          "iopub.status.busy": "2024-01-15T14:44:04.188705Z",
          "iopub.status.idle": "2024-01-15T14:44:04.196865Z",
          "shell.execute_reply": "2024-01-15T14:44:04.195913Z"
        },
        "papermill": {
          "duration": 0.029931,
          "end_time": "2024-01-15T14:44:04.199290",
          "exception": false,
          "start_time": "2024-01-15T14:44:04.169359",
          "status": "completed"
        },
        "tags": [],
        "id": "31a25469"
      },
      "outputs": [],
      "source": [
        "nltk.download('stopwords')\n",
        "nltk.download('punkt')\n",
        "\n",
        "def clean_text(text):\n",
        "    text = re.sub(r'<.*?>', '', text)\n",
        "    text = re.sub(r'[^a-zA-Z\\s]', '', text)\n",
        "    text = text.lower()\n",
        "\n",
        "    return text\n",
        "\n",
        "def tokenize_sentences(text):\n",
        "    sentences = sent_tokenize(text)\n",
        "    return sentences\n",
        "\n",
        "def tokenize_words(sentence):\n",
        "    words = word_tokenize(sentence)\n",
        "    return words\n",
        "\n",
        "def remove_stopwords(words):\n",
        "    stop_words = set(stopwords.words('english'))\n",
        "    filtered_words = [word for word in words if word.lower() not in stop_words]\n",
        "    return filtered_words"
      ]
    },
    {
      "cell_type": "code",
      "execution_count": null,
      "id": "d78bb072",
      "metadata": {
        "execution": {
          "iopub.execute_input": "2024-01-15T14:44:04.229765Z",
          "iopub.status.busy": "2024-01-15T14:44:04.228794Z",
          "iopub.status.idle": "2024-01-15T14:44:04.234659Z",
          "shell.execute_reply": "2024-01-15T14:44:04.233696Z"
        },
        "papermill": {
          "duration": 0.023913,
          "end_time": "2024-01-15T14:44:04.237171",
          "exception": false,
          "start_time": "2024-01-15T14:44:04.213258",
          "status": "completed"
        },
        "tags": [],
        "id": "d78bb072"
      },
      "outputs": [],
      "source": [
        "def preprocess_text(text):\n",
        "    cleaned_text = clean_text(text)\n",
        "    sentences = tokenize_sentences(cleaned_text)\n",
        "    words = tokenize_words(sentences[0])\n",
        "    filtered_words = remove_stopwords(words)\n",
        "\n",
        "    return filtered_words\n",
        "\n"
      ]
    },
    {
      "cell_type": "markdown",
      "id": "2fe16001",
      "metadata": {
        "id": "2fe16001",
        "papermill": {
          "duration": 0.014358,
          "end_time": "2024-01-15T14:44:04.265732",
          "exception": false,
          "start_time": "2024-01-15T14:44:04.251374",
          "status": "completed"
        },
        "tags": []
      },
      "source": [
        "# Loading the data into the pandas dataframe\n",
        "  Dataset comprises of train_essays from the competition\n",
        "     argupt essays(totally ai-generated), and most often used dataset in the competition train_drcat_v2 by DAIgt.\n",
        "     "
      ]
    },
    {
      "cell_type": "code",
      "execution_count": null,
      "id": "2e9a2fe2",
      "metadata": {
        "execution": {
          "iopub.execute_input": "2024-01-15T14:44:04.296269Z",
          "iopub.status.busy": "2024-01-15T14:44:04.295415Z",
          "iopub.status.idle": "2024-01-15T14:44:04.407498Z",
          "shell.execute_reply": "2024-01-15T14:44:04.406102Z"
        },
        "id": "2e9a2fe2",
        "papermill": {
          "duration": 0.131168,
          "end_time": "2024-01-15T14:44:04.410726",
          "exception": false,
          "start_time": "2024-01-15T14:44:04.279558",
          "status": "completed"
        },
        "tags": []
      },
      "outputs": [],
      "source": [
        "# load the data to a pandas dataframe\n",
        "train_data= pd.read_csv('/kaggle/input/llm-detect-ai-generated-text/train_essays.csv')"
      ]
    },
    {
      "cell_type": "code",
      "execution_count": null,
      "id": "d5067d4a",
      "metadata": {
        "execution": {
          "iopub.execute_input": "2024-01-15T14:44:04.443860Z",
          "iopub.status.busy": "2024-01-15T14:44:04.443357Z",
          "iopub.status.idle": "2024-01-15T14:44:04.465029Z",
          "shell.execute_reply": "2024-01-15T14:44:04.463719Z"
        },
        "papermill": {
          "duration": 0.040993,
          "end_time": "2024-01-15T14:44:04.468314",
          "exception": false,
          "start_time": "2024-01-15T14:44:04.427321",
          "status": "completed"
        },
        "tags": [],
        "id": "d5067d4a"
      },
      "outputs": [],
      "source": [
        "train_data=train_data.drop(columns=['prompt_id'])"
      ]
    },
    {
      "cell_type": "code",
      "execution_count": null,
      "id": "cb12f821",
      "metadata": {
        "execution": {
          "iopub.execute_input": "2024-01-15T14:44:04.498006Z",
          "iopub.status.busy": "2024-01-15T14:44:04.497524Z",
          "iopub.status.idle": "2024-01-15T14:44:04.721480Z",
          "shell.execute_reply": "2024-01-15T14:44:04.720280Z"
        },
        "id": "cb12f821",
        "papermill": {
          "duration": 0.243164,
          "end_time": "2024-01-15T14:44:04.725151",
          "exception": false,
          "start_time": "2024-01-15T14:44:04.481987",
          "status": "completed"
        },
        "tags": []
      },
      "outputs": [],
      "source": [
        "new_3=pd.read_csv('/kaggle/input/argugpt/argugpt.csv')\n",
        "new_3['generated']=1"
      ]
    },
    {
      "cell_type": "code",
      "execution_count": null,
      "id": "f5c2f838",
      "metadata": {
        "execution": {
          "iopub.execute_input": "2024-01-15T14:44:04.759330Z",
          "iopub.status.busy": "2024-01-15T14:44:04.758040Z",
          "iopub.status.idle": "2024-01-15T14:44:04.766077Z",
          "shell.execute_reply": "2024-01-15T14:44:04.764638Z"
        },
        "papermill": {
          "duration": 0.026606,
          "end_time": "2024-01-15T14:44:04.769109",
          "exception": false,
          "start_time": "2024-01-15T14:44:04.742503",
          "status": "completed"
        },
        "tags": [],
        "id": "f5c2f838"
      },
      "outputs": [],
      "source": [
        "new_3=new_3.drop(columns=['prompt_id','prompt','model','temperature','exam_type','score','score_level'])"
      ]
    },
    {
      "cell_type": "code",
      "execution_count": null,
      "id": "31f196b3",
      "metadata": {
        "execution": {
          "iopub.execute_input": "2024-01-15T14:44:04.799565Z",
          "iopub.status.busy": "2024-01-15T14:44:04.798959Z",
          "iopub.status.idle": "2024-01-15T14:44:04.821410Z",
          "shell.execute_reply": "2024-01-15T14:44:04.820244Z"
        },
        "papermill": {
          "duration": 0.041116,
          "end_time": "2024-01-15T14:44:04.824059",
          "exception": false,
          "start_time": "2024-01-15T14:44:04.782943",
          "status": "completed"
        },
        "tags": [],
        "id": "31f196b3",
        "outputId": "a2291f22-ebf9-49f2-e56b-ed86d7b1a266"
      },
      "outputs": [
        {
          "data": {
            "text/html": [
              "<div>\n",
              "<style scoped>\n",
              "    .dataframe tbody tr th:only-of-type {\n",
              "        vertical-align: middle;\n",
              "    }\n",
              "\n",
              "    .dataframe tbody tr th {\n",
              "        vertical-align: top;\n",
              "    }\n",
              "\n",
              "    .dataframe thead th {\n",
              "        text-align: right;\n",
              "    }\n",
              "</style>\n",
              "<table border=\"1\" class=\"dataframe\">\n",
              "  <thead>\n",
              "    <tr style=\"text-align: right;\">\n",
              "      <th></th>\n",
              "      <th>id</th>\n",
              "      <th>text</th>\n",
              "      <th>generated</th>\n",
              "    </tr>\n",
              "  </thead>\n",
              "  <tbody>\n",
              "    <tr>\n",
              "      <th>0</th>\n",
              "      <td>weccl_30</td>\n",
              "      <td>There are many people who think that universit...</td>\n",
              "      <td>1</td>\n",
              "    </tr>\n",
              "    <tr>\n",
              "      <th>1</th>\n",
              "      <td>weccl_51</td>\n",
              "      <td>There are a number of reasons why people might...</td>\n",
              "      <td>1</td>\n",
              "    </tr>\n",
              "    <tr>\n",
              "      <th>2</th>\n",
              "      <td>weccl_48</td>\n",
              "      <td>There are many reasons why university educatio...</td>\n",
              "      <td>1</td>\n",
              "    </tr>\n",
              "    <tr>\n",
              "      <th>3</th>\n",
              "      <td>weccl_50</td>\n",
              "      <td>There are many people who think that universit...</td>\n",
              "      <td>1</td>\n",
              "    </tr>\n",
              "    <tr>\n",
              "      <th>4</th>\n",
              "      <td>weccl_55</td>\n",
              "      <td>There is a general consensus that university e...</td>\n",
              "      <td>1</td>\n",
              "    </tr>\n",
              "    <tr>\n",
              "      <th>...</th>\n",
              "      <td>...</td>\n",
              "      <td>...</td>\n",
              "      <td>...</td>\n",
              "    </tr>\n",
              "    <tr>\n",
              "      <th>4033</th>\n",
              "      <td>gre_514</td>\n",
              "      <td>The notion that one must be forced to defend a...</td>\n",
              "      <td>1</td>\n",
              "    </tr>\n",
              "    <tr>\n",
              "      <th>4034</th>\n",
              "      <td>gre_1107</td>\n",
              "      <td>I strongly agree with the statement that menta...</td>\n",
              "      <td>1</td>\n",
              "    </tr>\n",
              "    <tr>\n",
              "      <th>4035</th>\n",
              "      <td>gre_1163</td>\n",
              "      <td>In today’s world, where competition is highly ...</td>\n",
              "      <td>1</td>\n",
              "    </tr>\n",
              "    <tr>\n",
              "      <th>4036</th>\n",
              "      <td>gre_1174</td>\n",
              "      <td>Education is one of the most powerful tools th...</td>\n",
              "      <td>1</td>\n",
              "    </tr>\n",
              "    <tr>\n",
              "      <th>4037</th>\n",
              "      <td>gre_1180</td>\n",
              "      <td>As the world is evolving rapidly, the need for...</td>\n",
              "      <td>1</td>\n",
              "    </tr>\n",
              "  </tbody>\n",
              "</table>\n",
              "<p>4038 rows × 3 columns</p>\n",
              "</div>"
            ],
            "text/plain": [
              "            id                                               text  generated\n",
              "0     weccl_30  There are many people who think that universit...          1\n",
              "1     weccl_51  There are a number of reasons why people might...          1\n",
              "2     weccl_48  There are many reasons why university educatio...          1\n",
              "3     weccl_50  There are many people who think that universit...          1\n",
              "4     weccl_55  There is a general consensus that university e...          1\n",
              "...        ...                                                ...        ...\n",
              "4033   gre_514  The notion that one must be forced to defend a...          1\n",
              "4034  gre_1107  I strongly agree with the statement that menta...          1\n",
              "4035  gre_1163  In today’s world, where competition is highly ...          1\n",
              "4036  gre_1174  Education is one of the most powerful tools th...          1\n",
              "4037  gre_1180  As the world is evolving rapidly, the need for...          1\n",
              "\n",
              "[4038 rows x 3 columns]"
            ]
          },
          "execution_count": 8,
          "metadata": {},
          "output_type": "execute_result"
        }
      ],
      "source": [
        "new_3"
      ]
    },
    {
      "cell_type": "code",
      "execution_count": null,
      "id": "60a7c661",
      "metadata": {
        "execution": {
          "iopub.execute_input": "2024-01-15T14:44:04.854229Z",
          "iopub.status.busy": "2024-01-15T14:44:04.853715Z",
          "iopub.status.idle": "2024-01-15T14:44:04.861593Z",
          "shell.execute_reply": "2024-01-15T14:44:04.860279Z"
        },
        "id": "60a7c661",
        "papermill": {
          "duration": 0.026061,
          "end_time": "2024-01-15T14:44:04.864129",
          "exception": false,
          "start_time": "2024-01-15T14:44:04.838068",
          "status": "completed"
        },
        "tags": []
      },
      "outputs": [],
      "source": [
        "train_data=pd.concat([train_data,new_3],ignore_index=True)"
      ]
    },
    {
      "cell_type": "code",
      "execution_count": null,
      "id": "6a24ffe8",
      "metadata": {
        "execution": {
          "iopub.execute_input": "2024-01-15T14:44:04.895015Z",
          "iopub.status.busy": "2024-01-15T14:44:04.894194Z",
          "iopub.status.idle": "2024-01-15T14:44:04.908848Z",
          "shell.execute_reply": "2024-01-15T14:44:04.907624Z"
        },
        "papermill": {
          "duration": 0.032974,
          "end_time": "2024-01-15T14:44:04.911574",
          "exception": false,
          "start_time": "2024-01-15T14:44:04.878600",
          "status": "completed"
        },
        "tags": [],
        "id": "6a24ffe8",
        "outputId": "1fd98f93-7c16-4c77-8ea2-5b92f0a53168"
      },
      "outputs": [
        {
          "data": {
            "text/html": [
              "<div>\n",
              "<style scoped>\n",
              "    .dataframe tbody tr th:only-of-type {\n",
              "        vertical-align: middle;\n",
              "    }\n",
              "\n",
              "    .dataframe tbody tr th {\n",
              "        vertical-align: top;\n",
              "    }\n",
              "\n",
              "    .dataframe thead th {\n",
              "        text-align: right;\n",
              "    }\n",
              "</style>\n",
              "<table border=\"1\" class=\"dataframe\">\n",
              "  <thead>\n",
              "    <tr style=\"text-align: right;\">\n",
              "      <th></th>\n",
              "      <th>id</th>\n",
              "      <th>text</th>\n",
              "      <th>generated</th>\n",
              "    </tr>\n",
              "  </thead>\n",
              "  <tbody>\n",
              "    <tr>\n",
              "      <th>0</th>\n",
              "      <td>0059830c</td>\n",
              "      <td>Cars. Cars have been around since they became ...</td>\n",
              "      <td>0</td>\n",
              "    </tr>\n",
              "    <tr>\n",
              "      <th>1</th>\n",
              "      <td>005db917</td>\n",
              "      <td>Transportation is a large necessity in most co...</td>\n",
              "      <td>0</td>\n",
              "    </tr>\n",
              "    <tr>\n",
              "      <th>2</th>\n",
              "      <td>008f63e3</td>\n",
              "      <td>\"America's love affair with it's vehicles seem...</td>\n",
              "      <td>0</td>\n",
              "    </tr>\n",
              "    <tr>\n",
              "      <th>3</th>\n",
              "      <td>00940276</td>\n",
              "      <td>How often do you ride in a car? Do you drive a...</td>\n",
              "      <td>0</td>\n",
              "    </tr>\n",
              "    <tr>\n",
              "      <th>4</th>\n",
              "      <td>00c39458</td>\n",
              "      <td>Cars are a wonderful thing. They are perhaps o...</td>\n",
              "      <td>0</td>\n",
              "    </tr>\n",
              "    <tr>\n",
              "      <th>...</th>\n",
              "      <td>...</td>\n",
              "      <td>...</td>\n",
              "      <td>...</td>\n",
              "    </tr>\n",
              "    <tr>\n",
              "      <th>5411</th>\n",
              "      <td>gre_514</td>\n",
              "      <td>The notion that one must be forced to defend a...</td>\n",
              "      <td>1</td>\n",
              "    </tr>\n",
              "    <tr>\n",
              "      <th>5412</th>\n",
              "      <td>gre_1107</td>\n",
              "      <td>I strongly agree with the statement that menta...</td>\n",
              "      <td>1</td>\n",
              "    </tr>\n",
              "    <tr>\n",
              "      <th>5413</th>\n",
              "      <td>gre_1163</td>\n",
              "      <td>In today’s world, where competition is highly ...</td>\n",
              "      <td>1</td>\n",
              "    </tr>\n",
              "    <tr>\n",
              "      <th>5414</th>\n",
              "      <td>gre_1174</td>\n",
              "      <td>Education is one of the most powerful tools th...</td>\n",
              "      <td>1</td>\n",
              "    </tr>\n",
              "    <tr>\n",
              "      <th>5415</th>\n",
              "      <td>gre_1180</td>\n",
              "      <td>As the world is evolving rapidly, the need for...</td>\n",
              "      <td>1</td>\n",
              "    </tr>\n",
              "  </tbody>\n",
              "</table>\n",
              "<p>5416 rows × 3 columns</p>\n",
              "</div>"
            ],
            "text/plain": [
              "            id                                               text  generated\n",
              "0     0059830c  Cars. Cars have been around since they became ...          0\n",
              "1     005db917  Transportation is a large necessity in most co...          0\n",
              "2     008f63e3  \"America's love affair with it's vehicles seem...          0\n",
              "3     00940276  How often do you ride in a car? Do you drive a...          0\n",
              "4     00c39458  Cars are a wonderful thing. They are perhaps o...          0\n",
              "...        ...                                                ...        ...\n",
              "5411   gre_514  The notion that one must be forced to defend a...          1\n",
              "5412  gre_1107  I strongly agree with the statement that menta...          1\n",
              "5413  gre_1163  In today’s world, where competition is highly ...          1\n",
              "5414  gre_1174  Education is one of the most powerful tools th...          1\n",
              "5415  gre_1180  As the world is evolving rapidly, the need for...          1\n",
              "\n",
              "[5416 rows x 3 columns]"
            ]
          },
          "execution_count": 10,
          "metadata": {},
          "output_type": "execute_result"
        }
      ],
      "source": [
        "train_data.columns = ['id', 'text','generated']\n",
        "train_data"
      ]
    },
    {
      "cell_type": "code",
      "execution_count": null,
      "id": "67860510",
      "metadata": {
        "execution": {
          "iopub.execute_input": "2024-01-15T14:44:04.942534Z",
          "iopub.status.busy": "2024-01-15T14:44:04.941890Z",
          "iopub.status.idle": "2024-01-15T14:44:07.471594Z",
          "shell.execute_reply": "2024-01-15T14:44:07.470278Z"
        },
        "papermill": {
          "duration": 2.548168,
          "end_time": "2024-01-15T14:44:07.474393",
          "exception": false,
          "start_time": "2024-01-15T14:44:04.926225",
          "status": "completed"
        },
        "tags": [],
        "id": "67860510",
        "outputId": "cca97558-a5b4-484e-827b-a96a929e2357"
      },
      "outputs": [
        {
          "data": {
            "text/html": [
              "<div>\n",
              "<style scoped>\n",
              "    .dataframe tbody tr th:only-of-type {\n",
              "        vertical-align: middle;\n",
              "    }\n",
              "\n",
              "    .dataframe tbody tr th {\n",
              "        vertical-align: top;\n",
              "    }\n",
              "\n",
              "    .dataframe thead th {\n",
              "        text-align: right;\n",
              "    }\n",
              "</style>\n",
              "<table border=\"1\" class=\"dataframe\">\n",
              "  <thead>\n",
              "    <tr style=\"text-align: right;\">\n",
              "      <th></th>\n",
              "      <th>text</th>\n",
              "      <th>label</th>\n",
              "      <th>prompt_name</th>\n",
              "      <th>source</th>\n",
              "      <th>RDizzl3_seven</th>\n",
              "    </tr>\n",
              "  </thead>\n",
              "  <tbody>\n",
              "    <tr>\n",
              "      <th>0</th>\n",
              "      <td>Phones\\n\\nModern humans today are always on th...</td>\n",
              "      <td>0</td>\n",
              "      <td>Phones and driving</td>\n",
              "      <td>persuade_corpus</td>\n",
              "      <td>False</td>\n",
              "    </tr>\n",
              "    <tr>\n",
              "      <th>1</th>\n",
              "      <td>This essay will explain if drivers should or s...</td>\n",
              "      <td>0</td>\n",
              "      <td>Phones and driving</td>\n",
              "      <td>persuade_corpus</td>\n",
              "      <td>False</td>\n",
              "    </tr>\n",
              "    <tr>\n",
              "      <th>2</th>\n",
              "      <td>Driving while the use of cellular devices\\n\\nT...</td>\n",
              "      <td>0</td>\n",
              "      <td>Phones and driving</td>\n",
              "      <td>persuade_corpus</td>\n",
              "      <td>False</td>\n",
              "    </tr>\n",
              "    <tr>\n",
              "      <th>3</th>\n",
              "      <td>Phones &amp; Driving\\n\\nDrivers should not be able...</td>\n",
              "      <td>0</td>\n",
              "      <td>Phones and driving</td>\n",
              "      <td>persuade_corpus</td>\n",
              "      <td>False</td>\n",
              "    </tr>\n",
              "    <tr>\n",
              "      <th>4</th>\n",
              "      <td>Cell Phone Operation While Driving\\n\\nThe abil...</td>\n",
              "      <td>0</td>\n",
              "      <td>Phones and driving</td>\n",
              "      <td>persuade_corpus</td>\n",
              "      <td>False</td>\n",
              "    </tr>\n",
              "    <tr>\n",
              "      <th>...</th>\n",
              "      <td>...</td>\n",
              "      <td>...</td>\n",
              "      <td>...</td>\n",
              "      <td>...</td>\n",
              "      <td>...</td>\n",
              "    </tr>\n",
              "    <tr>\n",
              "      <th>44863</th>\n",
              "      <td>Dear Senator,\\n\\nI am writing to you today to ...</td>\n",
              "      <td>1</td>\n",
              "      <td>Does the electoral college work?</td>\n",
              "      <td>kingki19_palm</td>\n",
              "      <td>True</td>\n",
              "    </tr>\n",
              "    <tr>\n",
              "      <th>44864</th>\n",
              "      <td>Dear Senator,\\n\\nI am writing to you today to ...</td>\n",
              "      <td>1</td>\n",
              "      <td>Does the electoral college work?</td>\n",
              "      <td>kingki19_palm</td>\n",
              "      <td>True</td>\n",
              "    </tr>\n",
              "    <tr>\n",
              "      <th>44865</th>\n",
              "      <td>Dear Senator,\\n\\nI am writing to you today to ...</td>\n",
              "      <td>1</td>\n",
              "      <td>Does the electoral college work?</td>\n",
              "      <td>kingki19_palm</td>\n",
              "      <td>True</td>\n",
              "    </tr>\n",
              "    <tr>\n",
              "      <th>44866</th>\n",
              "      <td>Dear Senator,\\n\\nI am writing to you today to ...</td>\n",
              "      <td>1</td>\n",
              "      <td>Does the electoral college work?</td>\n",
              "      <td>kingki19_palm</td>\n",
              "      <td>True</td>\n",
              "    </tr>\n",
              "    <tr>\n",
              "      <th>44867</th>\n",
              "      <td>Dear Senator,\\n\\nI am writing to you today to ...</td>\n",
              "      <td>1</td>\n",
              "      <td>Does the electoral college work?</td>\n",
              "      <td>kingki19_palm</td>\n",
              "      <td>True</td>\n",
              "    </tr>\n",
              "  </tbody>\n",
              "</table>\n",
              "<p>44868 rows × 5 columns</p>\n",
              "</div>"
            ],
            "text/plain": [
              "                                                    text  label  \\\n",
              "0      Phones\\n\\nModern humans today are always on th...      0   \n",
              "1      This essay will explain if drivers should or s...      0   \n",
              "2      Driving while the use of cellular devices\\n\\nT...      0   \n",
              "3      Phones & Driving\\n\\nDrivers should not be able...      0   \n",
              "4      Cell Phone Operation While Driving\\n\\nThe abil...      0   \n",
              "...                                                  ...    ...   \n",
              "44863  Dear Senator,\\n\\nI am writing to you today to ...      1   \n",
              "44864  Dear Senator,\\n\\nI am writing to you today to ...      1   \n",
              "44865  Dear Senator,\\n\\nI am writing to you today to ...      1   \n",
              "44866  Dear Senator,\\n\\nI am writing to you today to ...      1   \n",
              "44867  Dear Senator,\\n\\nI am writing to you today to ...      1   \n",
              "\n",
              "                            prompt_name           source  RDizzl3_seven  \n",
              "0                    Phones and driving  persuade_corpus          False  \n",
              "1                    Phones and driving  persuade_corpus          False  \n",
              "2                    Phones and driving  persuade_corpus          False  \n",
              "3                    Phones and driving  persuade_corpus          False  \n",
              "4                    Phones and driving  persuade_corpus          False  \n",
              "...                                 ...              ...            ...  \n",
              "44863  Does the electoral college work?    kingki19_palm           True  \n",
              "44864  Does the electoral college work?    kingki19_palm           True  \n",
              "44865  Does the electoral college work?    kingki19_palm           True  \n",
              "44866  Does the electoral college work?    kingki19_palm           True  \n",
              "44867  Does the electoral college work?    kingki19_palm           True  \n",
              "\n",
              "[44868 rows x 5 columns]"
            ]
          },
          "execution_count": 11,
          "metadata": {},
          "output_type": "execute_result"
        }
      ],
      "source": [
        "new=pd.read_csv('/kaggle/input/daigt-v2-train-dataset/train_v2_drcat_02.csv')\n",
        "new"
      ]
    },
    {
      "cell_type": "markdown",
      "source": [
        " filtering the dataset by RDizzl3_seven came in handy and helped me improve my public score"
      ],
      "metadata": {
        "id": "It1QdpDfDyre"
      },
      "id": "It1QdpDfDyre"
    },
    {
      "cell_type": "code",
      "execution_count": null,
      "id": "fd017d87",
      "metadata": {
        "execution": {
          "iopub.execute_input": "2024-01-15T14:44:07.507712Z",
          "iopub.status.busy": "2024-01-15T14:44:07.507214Z",
          "iopub.status.idle": "2024-01-15T14:44:07.518725Z",
          "shell.execute_reply": "2024-01-15T14:44:07.517685Z"
        },
        "papermill": {
          "duration": 0.031617,
          "end_time": "2024-01-15T14:44:07.521506",
          "exception": false,
          "start_time": "2024-01-15T14:44:07.489889",
          "status": "completed"
        },
        "tags": [],
        "id": "fd017d87"
      },
      "outputs": [],
      "source": [
        "new= new[new.RDizzl3_seven]\n",
        "new=new.reset_index(drop=True)"
      ]
    },
    {
      "cell_type": "code",
      "execution_count": null,
      "id": "67f435ad",
      "metadata": {
        "execution": {
          "iopub.execute_input": "2024-01-15T14:44:07.555496Z",
          "iopub.status.busy": "2024-01-15T14:44:07.553954Z",
          "iopub.status.idle": "2024-01-15T14:44:07.574931Z",
          "shell.execute_reply": "2024-01-15T14:44:07.573576Z"
        },
        "papermill": {
          "duration": 0.040937,
          "end_time": "2024-01-15T14:44:07.577908",
          "exception": false,
          "start_time": "2024-01-15T14:44:07.536971",
          "status": "completed"
        },
        "tags": [],
        "id": "67f435ad",
        "outputId": "6e87b772-ab67-4429-d64a-2636b503b6d7"
      },
      "outputs": [
        {
          "data": {
            "text/html": [
              "<div>\n",
              "<style scoped>\n",
              "    .dataframe tbody tr th:only-of-type {\n",
              "        vertical-align: middle;\n",
              "    }\n",
              "\n",
              "    .dataframe tbody tr th {\n",
              "        vertical-align: top;\n",
              "    }\n",
              "\n",
              "    .dataframe thead th {\n",
              "        text-align: right;\n",
              "    }\n",
              "</style>\n",
              "<table border=\"1\" class=\"dataframe\">\n",
              "  <thead>\n",
              "    <tr style=\"text-align: right;\">\n",
              "      <th></th>\n",
              "      <th>text</th>\n",
              "      <th>label</th>\n",
              "    </tr>\n",
              "  </thead>\n",
              "  <tbody>\n",
              "    <tr>\n",
              "      <th>0</th>\n",
              "      <td>Cars have been around for awhile and they have...</td>\n",
              "      <td>0</td>\n",
              "    </tr>\n",
              "    <tr>\n",
              "      <th>1</th>\n",
              "      <td>Have you ever thought what it would be like no...</td>\n",
              "      <td>0</td>\n",
              "    </tr>\n",
              "    <tr>\n",
              "      <th>2</th>\n",
              "      <td>What you are about to read is going to give yo...</td>\n",
              "      <td>0</td>\n",
              "    </tr>\n",
              "    <tr>\n",
              "      <th>3</th>\n",
              "      <td>cars have many flaws nd and in this day and ag...</td>\n",
              "      <td>0</td>\n",
              "    </tr>\n",
              "    <tr>\n",
              "      <th>4</th>\n",
              "      <td>There are many advantages of limiting car usag...</td>\n",
              "      <td>0</td>\n",
              "    </tr>\n",
              "    <tr>\n",
              "      <th>...</th>\n",
              "      <td>...</td>\n",
              "      <td>...</td>\n",
              "    </tr>\n",
              "    <tr>\n",
              "      <th>20445</th>\n",
              "      <td>Dear Senator,\\n\\nI am writing to you today to ...</td>\n",
              "      <td>1</td>\n",
              "    </tr>\n",
              "    <tr>\n",
              "      <th>20446</th>\n",
              "      <td>Dear Senator,\\n\\nI am writing to you today to ...</td>\n",
              "      <td>1</td>\n",
              "    </tr>\n",
              "    <tr>\n",
              "      <th>20447</th>\n",
              "      <td>Dear Senator,\\n\\nI am writing to you today to ...</td>\n",
              "      <td>1</td>\n",
              "    </tr>\n",
              "    <tr>\n",
              "      <th>20448</th>\n",
              "      <td>Dear Senator,\\n\\nI am writing to you today to ...</td>\n",
              "      <td>1</td>\n",
              "    </tr>\n",
              "    <tr>\n",
              "      <th>20449</th>\n",
              "      <td>Dear Senator,\\n\\nI am writing to you today to ...</td>\n",
              "      <td>1</td>\n",
              "    </tr>\n",
              "  </tbody>\n",
              "</table>\n",
              "<p>20450 rows × 2 columns</p>\n",
              "</div>"
            ],
            "text/plain": [
              "                                                    text  label\n",
              "0      Cars have been around for awhile and they have...      0\n",
              "1      Have you ever thought what it would be like no...      0\n",
              "2      What you are about to read is going to give yo...      0\n",
              "3      cars have many flaws nd and in this day and ag...      0\n",
              "4      There are many advantages of limiting car usag...      0\n",
              "...                                                  ...    ...\n",
              "20445  Dear Senator,\\n\\nI am writing to you today to ...      1\n",
              "20446  Dear Senator,\\n\\nI am writing to you today to ...      1\n",
              "20447  Dear Senator,\\n\\nI am writing to you today to ...      1\n",
              "20448  Dear Senator,\\n\\nI am writing to you today to ...      1\n",
              "20449  Dear Senator,\\n\\nI am writing to you today to ...      1\n",
              "\n",
              "[20450 rows x 2 columns]"
            ]
          },
          "execution_count": 13,
          "metadata": {},
          "output_type": "execute_result"
        }
      ],
      "source": [
        "new=new.drop(columns=['prompt_name','source','RDizzl3_seven'])\n",
        "new"
      ]
    },
    {
      "cell_type": "code",
      "execution_count": null,
      "id": "1a4fc8ee",
      "metadata": {
        "execution": {
          "iopub.execute_input": "2024-01-15T14:44:07.612312Z",
          "iopub.status.busy": "2024-01-15T14:44:07.610796Z",
          "iopub.status.idle": "2024-01-15T14:44:07.616884Z",
          "shell.execute_reply": "2024-01-15T14:44:07.615977Z"
        },
        "papermill": {
          "duration": 0.025744,
          "end_time": "2024-01-15T14:44:07.619282",
          "exception": false,
          "start_time": "2024-01-15T14:44:07.593538",
          "status": "completed"
        },
        "tags": [],
        "id": "1a4fc8ee"
      },
      "outputs": [],
      "source": [
        "new.columns=['text','generated']"
      ]
    },
    {
      "cell_type": "code",
      "execution_count": null,
      "id": "c8a3e08f",
      "metadata": {
        "execution": {
          "iopub.execute_input": "2024-01-15T14:44:07.745502Z",
          "iopub.status.busy": "2024-01-15T14:44:07.744642Z",
          "iopub.status.idle": "2024-01-15T14:44:07.761468Z",
          "shell.execute_reply": "2024-01-15T14:44:07.760217Z"
        },
        "papermill": {
          "duration": 0.036728,
          "end_time": "2024-01-15T14:44:07.764294",
          "exception": false,
          "start_time": "2024-01-15T14:44:07.727566",
          "status": "completed"
        },
        "tags": [],
        "id": "c8a3e08f",
        "outputId": "39031210-a94b-4e56-b4b5-b015647987f6"
      },
      "outputs": [
        {
          "data": {
            "text/html": [
              "<div>\n",
              "<style scoped>\n",
              "    .dataframe tbody tr th:only-of-type {\n",
              "        vertical-align: middle;\n",
              "    }\n",
              "\n",
              "    .dataframe tbody tr th {\n",
              "        vertical-align: top;\n",
              "    }\n",
              "\n",
              "    .dataframe thead th {\n",
              "        text-align: right;\n",
              "    }\n",
              "</style>\n",
              "<table border=\"1\" class=\"dataframe\">\n",
              "  <thead>\n",
              "    <tr style=\"text-align: right;\">\n",
              "      <th></th>\n",
              "      <th>text</th>\n",
              "      <th>generated</th>\n",
              "      <th>id</th>\n",
              "    </tr>\n",
              "  </thead>\n",
              "  <tbody>\n",
              "    <tr>\n",
              "      <th>0</th>\n",
              "      <td>Cars have been around for awhile and they have...</td>\n",
              "      <td>0</td>\n",
              "      <td>0.222362</td>\n",
              "    </tr>\n",
              "    <tr>\n",
              "      <th>1</th>\n",
              "      <td>Have you ever thought what it would be like no...</td>\n",
              "      <td>0</td>\n",
              "      <td>0.340333</td>\n",
              "    </tr>\n",
              "    <tr>\n",
              "      <th>2</th>\n",
              "      <td>What you are about to read is going to give yo...</td>\n",
              "      <td>0</td>\n",
              "      <td>0.455175</td>\n",
              "    </tr>\n",
              "    <tr>\n",
              "      <th>3</th>\n",
              "      <td>cars have many flaws nd and in this day and ag...</td>\n",
              "      <td>0</td>\n",
              "      <td>0.118815</td>\n",
              "    </tr>\n",
              "    <tr>\n",
              "      <th>4</th>\n",
              "      <td>There are many advantages of limiting car usag...</td>\n",
              "      <td>0</td>\n",
              "      <td>0.066707</td>\n",
              "    </tr>\n",
              "    <tr>\n",
              "      <th>...</th>\n",
              "      <td>...</td>\n",
              "      <td>...</td>\n",
              "      <td>...</td>\n",
              "    </tr>\n",
              "    <tr>\n",
              "      <th>20445</th>\n",
              "      <td>Dear Senator,\\n\\nI am writing to you today to ...</td>\n",
              "      <td>1</td>\n",
              "      <td>0.518218</td>\n",
              "    </tr>\n",
              "    <tr>\n",
              "      <th>20446</th>\n",
              "      <td>Dear Senator,\\n\\nI am writing to you today to ...</td>\n",
              "      <td>1</td>\n",
              "      <td>0.816804</td>\n",
              "    </tr>\n",
              "    <tr>\n",
              "      <th>20447</th>\n",
              "      <td>Dear Senator,\\n\\nI am writing to you today to ...</td>\n",
              "      <td>1</td>\n",
              "      <td>0.676522</td>\n",
              "    </tr>\n",
              "    <tr>\n",
              "      <th>20448</th>\n",
              "      <td>Dear Senator,\\n\\nI am writing to you today to ...</td>\n",
              "      <td>1</td>\n",
              "      <td>0.445930</td>\n",
              "    </tr>\n",
              "    <tr>\n",
              "      <th>20449</th>\n",
              "      <td>Dear Senator,\\n\\nI am writing to you today to ...</td>\n",
              "      <td>1</td>\n",
              "      <td>0.602200</td>\n",
              "    </tr>\n",
              "  </tbody>\n",
              "</table>\n",
              "<p>20450 rows × 3 columns</p>\n",
              "</div>"
            ],
            "text/plain": [
              "                                                    text  generated        id\n",
              "0      Cars have been around for awhile and they have...          0  0.222362\n",
              "1      Have you ever thought what it would be like no...          0  0.340333\n",
              "2      What you are about to read is going to give yo...          0  0.455175\n",
              "3      cars have many flaws nd and in this day and ag...          0  0.118815\n",
              "4      There are many advantages of limiting car usag...          0  0.066707\n",
              "...                                                  ...        ...       ...\n",
              "20445  Dear Senator,\\n\\nI am writing to you today to ...          1  0.518218\n",
              "20446  Dear Senator,\\n\\nI am writing to you today to ...          1  0.816804\n",
              "20447  Dear Senator,\\n\\nI am writing to you today to ...          1  0.676522\n",
              "20448  Dear Senator,\\n\\nI am writing to you today to ...          1  0.445930\n",
              "20449  Dear Senator,\\n\\nI am writing to you today to ...          1  0.602200\n",
              "\n",
              "[20450 rows x 3 columns]"
            ]
          },
          "execution_count": 15,
          "metadata": {},
          "output_type": "execute_result"
        }
      ],
      "source": [
        "new['id']=np.random.rand(20450)\n",
        "new"
      ]
    },
    {
      "cell_type": "code",
      "execution_count": null,
      "id": "ed5f10b5",
      "metadata": {
        "execution": {
          "iopub.execute_input": "2024-01-15T14:44:07.798376Z",
          "iopub.status.busy": "2024-01-15T14:44:07.797802Z",
          "iopub.status.idle": "2024-01-15T14:44:07.834646Z",
          "shell.execute_reply": "2024-01-15T14:44:07.833255Z"
        },
        "papermill": {
          "duration": 0.057569,
          "end_time": "2024-01-15T14:44:07.837827",
          "exception": false,
          "start_time": "2024-01-15T14:44:07.780258",
          "status": "completed"
        },
        "tags": [],
        "id": "ed5f10b5",
        "outputId": "06791eb2-0437-42e6-c4af-ab6c22e6b953"
      },
      "outputs": [
        {
          "name": "stdout",
          "output_type": "stream",
          "text": [
            "<class 'pandas.core.frame.DataFrame'>\n",
            "RangeIndex: 20450 entries, 0 to 20449\n",
            "Data columns (total 3 columns):\n",
            " #   Column     Non-Null Count  Dtype  \n",
            "---  ------     --------------  -----  \n",
            " 0   text       20450 non-null  object \n",
            " 1   generated  20450 non-null  int64  \n",
            " 2   id         20450 non-null  float64\n",
            "dtypes: float64(1), int64(1), object(1)\n",
            "memory usage: 479.4+ KB\n"
          ]
        }
      ],
      "source": [
        "new.info()"
      ]
    },
    {
      "cell_type": "code",
      "execution_count": null,
      "id": "51129990",
      "metadata": {
        "execution": {
          "iopub.execute_input": "2024-01-15T14:44:07.873572Z",
          "iopub.status.busy": "2024-01-15T14:44:07.872975Z",
          "iopub.status.idle": "2024-01-15T14:44:07.884359Z",
          "shell.execute_reply": "2024-01-15T14:44:07.883104Z"
        },
        "papermill": {
          "duration": 0.032863,
          "end_time": "2024-01-15T14:44:07.887082",
          "exception": false,
          "start_time": "2024-01-15T14:44:07.854219",
          "status": "completed"
        },
        "tags": [],
        "id": "51129990",
        "outputId": "1f54667d-2ca2-405a-ed4c-b418db2ce5eb"
      },
      "outputs": [
        {
          "data": {
            "text/plain": [
              "generated\n",
              "0    14250\n",
              "1     6200\n",
              "Name: count, dtype: int64"
            ]
          },
          "execution_count": 17,
          "metadata": {},
          "output_type": "execute_result"
        }
      ],
      "source": [
        "new.generated.value_counts()"
      ]
    },
    {
      "cell_type": "code",
      "execution_count": null,
      "id": "074a3b20",
      "metadata": {
        "execution": {
          "iopub.execute_input": "2024-01-15T14:44:07.922317Z",
          "iopub.status.busy": "2024-01-15T14:44:07.921747Z",
          "iopub.status.idle": "2024-01-15T14:44:07.943657Z",
          "shell.execute_reply": "2024-01-15T14:44:07.942254Z"
        },
        "papermill": {
          "duration": 0.042792,
          "end_time": "2024-01-15T14:44:07.946133",
          "exception": false,
          "start_time": "2024-01-15T14:44:07.903341",
          "status": "completed"
        },
        "tags": [],
        "id": "074a3b20",
        "outputId": "374abb01-6108-4a54-bcf5-3f2c724f3894"
      },
      "outputs": [
        {
          "data": {
            "text/html": [
              "<div>\n",
              "<style scoped>\n",
              "    .dataframe tbody tr th:only-of-type {\n",
              "        vertical-align: middle;\n",
              "    }\n",
              "\n",
              "    .dataframe tbody tr th {\n",
              "        vertical-align: top;\n",
              "    }\n",
              "\n",
              "    .dataframe thead th {\n",
              "        text-align: right;\n",
              "    }\n",
              "</style>\n",
              "<table border=\"1\" class=\"dataframe\">\n",
              "  <thead>\n",
              "    <tr style=\"text-align: right;\">\n",
              "      <th></th>\n",
              "      <th>id</th>\n",
              "      <th>text</th>\n",
              "      <th>generated</th>\n",
              "    </tr>\n",
              "  </thead>\n",
              "  <tbody>\n",
              "    <tr>\n",
              "      <th>0</th>\n",
              "      <td>0059830c</td>\n",
              "      <td>Cars. Cars have been around since they became ...</td>\n",
              "      <td>0</td>\n",
              "    </tr>\n",
              "    <tr>\n",
              "      <th>1</th>\n",
              "      <td>005db917</td>\n",
              "      <td>Transportation is a large necessity in most co...</td>\n",
              "      <td>0</td>\n",
              "    </tr>\n",
              "    <tr>\n",
              "      <th>2</th>\n",
              "      <td>008f63e3</td>\n",
              "      <td>\"America's love affair with it's vehicles seem...</td>\n",
              "      <td>0</td>\n",
              "    </tr>\n",
              "    <tr>\n",
              "      <th>3</th>\n",
              "      <td>00940276</td>\n",
              "      <td>How often do you ride in a car? Do you drive a...</td>\n",
              "      <td>0</td>\n",
              "    </tr>\n",
              "    <tr>\n",
              "      <th>4</th>\n",
              "      <td>00c39458</td>\n",
              "      <td>Cars are a wonderful thing. They are perhaps o...</td>\n",
              "      <td>0</td>\n",
              "    </tr>\n",
              "    <tr>\n",
              "      <th>...</th>\n",
              "      <td>...</td>\n",
              "      <td>...</td>\n",
              "      <td>...</td>\n",
              "    </tr>\n",
              "    <tr>\n",
              "      <th>25861</th>\n",
              "      <td>0.518218</td>\n",
              "      <td>Dear Senator,\\n\\nI am writing to you today to ...</td>\n",
              "      <td>1</td>\n",
              "    </tr>\n",
              "    <tr>\n",
              "      <th>25862</th>\n",
              "      <td>0.816804</td>\n",
              "      <td>Dear Senator,\\n\\nI am writing to you today to ...</td>\n",
              "      <td>1</td>\n",
              "    </tr>\n",
              "    <tr>\n",
              "      <th>25863</th>\n",
              "      <td>0.676522</td>\n",
              "      <td>Dear Senator,\\n\\nI am writing to you today to ...</td>\n",
              "      <td>1</td>\n",
              "    </tr>\n",
              "    <tr>\n",
              "      <th>25864</th>\n",
              "      <td>0.44593</td>\n",
              "      <td>Dear Senator,\\n\\nI am writing to you today to ...</td>\n",
              "      <td>1</td>\n",
              "    </tr>\n",
              "    <tr>\n",
              "      <th>25865</th>\n",
              "      <td>0.6022</td>\n",
              "      <td>Dear Senator,\\n\\nI am writing to you today to ...</td>\n",
              "      <td>1</td>\n",
              "    </tr>\n",
              "  </tbody>\n",
              "</table>\n",
              "<p>25866 rows × 3 columns</p>\n",
              "</div>"
            ],
            "text/plain": [
              "             id                                               text  generated\n",
              "0      0059830c  Cars. Cars have been around since they became ...          0\n",
              "1      005db917  Transportation is a large necessity in most co...          0\n",
              "2      008f63e3  \"America's love affair with it's vehicles seem...          0\n",
              "3      00940276  How often do you ride in a car? Do you drive a...          0\n",
              "4      00c39458  Cars are a wonderful thing. They are perhaps o...          0\n",
              "...         ...                                                ...        ...\n",
              "25861  0.518218  Dear Senator,\\n\\nI am writing to you today to ...          1\n",
              "25862  0.816804  Dear Senator,\\n\\nI am writing to you today to ...          1\n",
              "25863  0.676522  Dear Senator,\\n\\nI am writing to you today to ...          1\n",
              "25864   0.44593  Dear Senator,\\n\\nI am writing to you today to ...          1\n",
              "25865    0.6022  Dear Senator,\\n\\nI am writing to you today to ...          1\n",
              "\n",
              "[25866 rows x 3 columns]"
            ]
          },
          "execution_count": 18,
          "metadata": {},
          "output_type": "execute_result"
        }
      ],
      "source": [
        "train_data=pd.concat([train_data,new],ignore_index=True)\n",
        "train_data"
      ]
    },
    {
      "cell_type": "code",
      "execution_count": null,
      "id": "6ed57ed6",
      "metadata": {
        "execution": {
          "iopub.execute_input": "2024-01-15T14:44:07.982789Z",
          "iopub.status.busy": "2024-01-15T14:44:07.981364Z",
          "iopub.status.idle": "2024-01-15T14:44:07.999853Z",
          "shell.execute_reply": "2024-01-15T14:44:07.998541Z"
        },
        "id": "6ed57ed6",
        "outputId": "3d3da069-bd9e-4b83-970f-373f5c03c5f3",
        "papermill": {
          "duration": 0.039518,
          "end_time": "2024-01-15T14:44:08.002716",
          "exception": false,
          "start_time": "2024-01-15T14:44:07.963198",
          "status": "completed"
        },
        "tags": []
      },
      "outputs": [
        {
          "data": {
            "text/plain": [
              "id           0\n",
              "text         0\n",
              "generated    0\n",
              "dtype: int64"
            ]
          },
          "execution_count": 19,
          "metadata": {},
          "output_type": "execute_result"
        }
      ],
      "source": [
        "# checking for missing values\n",
        "train_data.isnull().sum()"
      ]
    },
    {
      "cell_type": "code",
      "execution_count": null,
      "id": "e34a956b",
      "metadata": {
        "execution": {
          "iopub.execute_input": "2024-01-15T14:44:08.038596Z",
          "iopub.status.busy": "2024-01-15T14:44:08.038053Z",
          "iopub.status.idle": "2024-01-15T14:44:08.056671Z",
          "shell.execute_reply": "2024-01-15T14:44:08.055583Z"
        },
        "id": "e34a956b",
        "papermill": {
          "duration": 0.040348,
          "end_time": "2024-01-15T14:44:08.059736",
          "exception": false,
          "start_time": "2024-01-15T14:44:08.019388",
          "status": "completed"
        },
        "tags": []
      },
      "outputs": [],
      "source": [
        "# replacing the missing values with null string\n",
        "train_data = train_data.fillna('')"
      ]
    },
    {
      "cell_type": "code",
      "execution_count": null,
      "id": "c225fec4",
      "metadata": {
        "execution": {
          "iopub.execute_input": "2024-01-15T14:44:08.097543Z",
          "iopub.status.busy": "2024-01-15T14:44:08.096985Z",
          "iopub.status.idle": "2024-01-15T14:44:08.162201Z",
          "shell.execute_reply": "2024-01-15T14:44:08.160796Z"
        },
        "papermill": {
          "duration": 0.086866,
          "end_time": "2024-01-15T14:44:08.165506",
          "exception": false,
          "start_time": "2024-01-15T14:44:08.078640",
          "status": "completed"
        },
        "tags": [],
        "id": "c225fec4",
        "outputId": "d609d125-c9ec-4feb-bdec-99ed05c5d747"
      },
      "outputs": [
        {
          "data": {
            "text/html": [
              "<div>\n",
              "<style scoped>\n",
              "    .dataframe tbody tr th:only-of-type {\n",
              "        vertical-align: middle;\n",
              "    }\n",
              "\n",
              "    .dataframe tbody tr th {\n",
              "        vertical-align: top;\n",
              "    }\n",
              "\n",
              "    .dataframe thead th {\n",
              "        text-align: right;\n",
              "    }\n",
              "</style>\n",
              "<table border=\"1\" class=\"dataframe\">\n",
              "  <thead>\n",
              "    <tr style=\"text-align: right;\">\n",
              "      <th></th>\n",
              "      <th>id</th>\n",
              "      <th>text</th>\n",
              "      <th>generated</th>\n",
              "    </tr>\n",
              "  </thead>\n",
              "  <tbody>\n",
              "    <tr>\n",
              "      <th>0</th>\n",
              "      <td>0059830c</td>\n",
              "      <td>Cars. Cars have been around since they became ...</td>\n",
              "      <td>0</td>\n",
              "    </tr>\n",
              "    <tr>\n",
              "      <th>1</th>\n",
              "      <td>005db917</td>\n",
              "      <td>Transportation is a large necessity in most co...</td>\n",
              "      <td>0</td>\n",
              "    </tr>\n",
              "    <tr>\n",
              "      <th>2</th>\n",
              "      <td>008f63e3</td>\n",
              "      <td>\"America's love affair with it's vehicles seem...</td>\n",
              "      <td>0</td>\n",
              "    </tr>\n",
              "    <tr>\n",
              "      <th>3</th>\n",
              "      <td>00940276</td>\n",
              "      <td>How often do you ride in a car? Do you drive a...</td>\n",
              "      <td>0</td>\n",
              "    </tr>\n",
              "    <tr>\n",
              "      <th>4</th>\n",
              "      <td>00c39458</td>\n",
              "      <td>Cars are a wonderful thing. They are perhaps o...</td>\n",
              "      <td>0</td>\n",
              "    </tr>\n",
              "    <tr>\n",
              "      <th>...</th>\n",
              "      <td>...</td>\n",
              "      <td>...</td>\n",
              "      <td>...</td>\n",
              "    </tr>\n",
              "    <tr>\n",
              "      <th>25861</th>\n",
              "      <td>0.518218</td>\n",
              "      <td>Dear Senator,\\n\\nI am writing to you today to ...</td>\n",
              "      <td>1</td>\n",
              "    </tr>\n",
              "    <tr>\n",
              "      <th>25862</th>\n",
              "      <td>0.816804</td>\n",
              "      <td>Dear Senator,\\n\\nI am writing to you today to ...</td>\n",
              "      <td>1</td>\n",
              "    </tr>\n",
              "    <tr>\n",
              "      <th>25863</th>\n",
              "      <td>0.676522</td>\n",
              "      <td>Dear Senator,\\n\\nI am writing to you today to ...</td>\n",
              "      <td>1</td>\n",
              "    </tr>\n",
              "    <tr>\n",
              "      <th>25864</th>\n",
              "      <td>0.44593</td>\n",
              "      <td>Dear Senator,\\n\\nI am writing to you today to ...</td>\n",
              "      <td>1</td>\n",
              "    </tr>\n",
              "    <tr>\n",
              "      <th>25865</th>\n",
              "      <td>0.6022</td>\n",
              "      <td>Dear Senator,\\n\\nI am writing to you today to ...</td>\n",
              "      <td>1</td>\n",
              "    </tr>\n",
              "  </tbody>\n",
              "</table>\n",
              "<p>24488 rows × 3 columns</p>\n",
              "</div>"
            ],
            "text/plain": [
              "             id                                               text  generated\n",
              "0      0059830c  Cars. Cars have been around since they became ...          0\n",
              "1      005db917  Transportation is a large necessity in most co...          0\n",
              "2      008f63e3  \"America's love affair with it's vehicles seem...          0\n",
              "3      00940276  How often do you ride in a car? Do you drive a...          0\n",
              "4      00c39458  Cars are a wonderful thing. They are perhaps o...          0\n",
              "...         ...                                                ...        ...\n",
              "25861  0.518218  Dear Senator,\\n\\nI am writing to you today to ...          1\n",
              "25862  0.816804  Dear Senator,\\n\\nI am writing to you today to ...          1\n",
              "25863  0.676522  Dear Senator,\\n\\nI am writing to you today to ...          1\n",
              "25864   0.44593  Dear Senator,\\n\\nI am writing to you today to ...          1\n",
              "25865    0.6022  Dear Senator,\\n\\nI am writing to you today to ...          1\n",
              "\n",
              "[24488 rows x 3 columns]"
            ]
          },
          "execution_count": 21,
          "metadata": {},
          "output_type": "execute_result"
        }
      ],
      "source": [
        "train_data=train_data.drop_duplicates(subset='text')\n",
        "train_data"
      ]
    },
    {
      "cell_type": "code",
      "execution_count": null,
      "id": "5e8f4550",
      "metadata": {
        "execution": {
          "iopub.execute_input": "2024-01-15T14:44:08.202485Z",
          "iopub.status.busy": "2024-01-15T14:44:08.201641Z",
          "iopub.status.idle": "2024-01-15T14:44:08.221860Z",
          "shell.execute_reply": "2024-01-15T14:44:08.220701Z"
        },
        "papermill": {
          "duration": 0.041766,
          "end_time": "2024-01-15T14:44:08.224705",
          "exception": false,
          "start_time": "2024-01-15T14:44:08.182939",
          "status": "completed"
        },
        "tags": [],
        "id": "5e8f4550",
        "outputId": "ee7c41c6-fef2-4232-9af2-b3944f7ba7d0"
      },
      "outputs": [
        {
          "data": {
            "text/html": [
              "<div>\n",
              "<style scoped>\n",
              "    .dataframe tbody tr th:only-of-type {\n",
              "        vertical-align: middle;\n",
              "    }\n",
              "\n",
              "    .dataframe tbody tr th {\n",
              "        vertical-align: top;\n",
              "    }\n",
              "\n",
              "    .dataframe thead th {\n",
              "        text-align: right;\n",
              "    }\n",
              "</style>\n",
              "<table border=\"1\" class=\"dataframe\">\n",
              "  <thead>\n",
              "    <tr style=\"text-align: right;\">\n",
              "      <th></th>\n",
              "      <th>id</th>\n",
              "      <th>text</th>\n",
              "      <th>generated</th>\n",
              "    </tr>\n",
              "  </thead>\n",
              "  <tbody>\n",
              "    <tr>\n",
              "      <th>0</th>\n",
              "      <td>0059830c</td>\n",
              "      <td>Cars. Cars have been around since they became ...</td>\n",
              "      <td>0</td>\n",
              "    </tr>\n",
              "    <tr>\n",
              "      <th>1</th>\n",
              "      <td>005db917</td>\n",
              "      <td>Transportation is a large necessity in most co...</td>\n",
              "      <td>0</td>\n",
              "    </tr>\n",
              "    <tr>\n",
              "      <th>2</th>\n",
              "      <td>008f63e3</td>\n",
              "      <td>\"America's love affair with it's vehicles seem...</td>\n",
              "      <td>0</td>\n",
              "    </tr>\n",
              "    <tr>\n",
              "      <th>3</th>\n",
              "      <td>00940276</td>\n",
              "      <td>How often do you ride in a car? Do you drive a...</td>\n",
              "      <td>0</td>\n",
              "    </tr>\n",
              "    <tr>\n",
              "      <th>4</th>\n",
              "      <td>00c39458</td>\n",
              "      <td>Cars are a wonderful thing. They are perhaps o...</td>\n",
              "      <td>0</td>\n",
              "    </tr>\n",
              "    <tr>\n",
              "      <th>...</th>\n",
              "      <td>...</td>\n",
              "      <td>...</td>\n",
              "      <td>...</td>\n",
              "    </tr>\n",
              "    <tr>\n",
              "      <th>24483</th>\n",
              "      <td>0.518218</td>\n",
              "      <td>Dear Senator,\\n\\nI am writing to you today to ...</td>\n",
              "      <td>1</td>\n",
              "    </tr>\n",
              "    <tr>\n",
              "      <th>24484</th>\n",
              "      <td>0.816804</td>\n",
              "      <td>Dear Senator,\\n\\nI am writing to you today to ...</td>\n",
              "      <td>1</td>\n",
              "    </tr>\n",
              "    <tr>\n",
              "      <th>24485</th>\n",
              "      <td>0.676522</td>\n",
              "      <td>Dear Senator,\\n\\nI am writing to you today to ...</td>\n",
              "      <td>1</td>\n",
              "    </tr>\n",
              "    <tr>\n",
              "      <th>24486</th>\n",
              "      <td>0.44593</td>\n",
              "      <td>Dear Senator,\\n\\nI am writing to you today to ...</td>\n",
              "      <td>1</td>\n",
              "    </tr>\n",
              "    <tr>\n",
              "      <th>24487</th>\n",
              "      <td>0.6022</td>\n",
              "      <td>Dear Senator,\\n\\nI am writing to you today to ...</td>\n",
              "      <td>1</td>\n",
              "    </tr>\n",
              "  </tbody>\n",
              "</table>\n",
              "<p>24488 rows × 3 columns</p>\n",
              "</div>"
            ],
            "text/plain": [
              "             id                                               text  generated\n",
              "0      0059830c  Cars. Cars have been around since they became ...          0\n",
              "1      005db917  Transportation is a large necessity in most co...          0\n",
              "2      008f63e3  \"America's love affair with it's vehicles seem...          0\n",
              "3      00940276  How often do you ride in a car? Do you drive a...          0\n",
              "4      00c39458  Cars are a wonderful thing. They are perhaps o...          0\n",
              "...         ...                                                ...        ...\n",
              "24483  0.518218  Dear Senator,\\n\\nI am writing to you today to ...          1\n",
              "24484  0.816804  Dear Senator,\\n\\nI am writing to you today to ...          1\n",
              "24485  0.676522  Dear Senator,\\n\\nI am writing to you today to ...          1\n",
              "24486   0.44593  Dear Senator,\\n\\nI am writing to you today to ...          1\n",
              "24487    0.6022  Dear Senator,\\n\\nI am writing to you today to ...          1\n",
              "\n",
              "[24488 rows x 3 columns]"
            ]
          },
          "execution_count": 22,
          "metadata": {},
          "output_type": "execute_result"
        }
      ],
      "source": [
        "train_data=train_data.reset_index(drop=True)\n",
        "train_data"
      ]
    },
    {
      "cell_type": "code",
      "execution_count": null,
      "id": "752072e0",
      "metadata": {
        "execution": {
          "iopub.execute_input": "2024-01-15T14:44:08.262359Z",
          "iopub.status.busy": "2024-01-15T14:44:08.261307Z",
          "iopub.status.idle": "2024-01-15T14:44:08.270756Z",
          "shell.execute_reply": "2024-01-15T14:44:08.269852Z"
        },
        "papermill": {
          "duration": 0.031031,
          "end_time": "2024-01-15T14:44:08.272957",
          "exception": false,
          "start_time": "2024-01-15T14:44:08.241926",
          "status": "completed"
        },
        "tags": [],
        "id": "752072e0",
        "outputId": "c6db43f7-418c-4299-ae99-3feae3c6fd88"
      },
      "outputs": [
        {
          "data": {
            "text/plain": [
              "generated\n",
              "0    14250\n",
              "1    10238\n",
              "Name: count, dtype: int64"
            ]
          },
          "execution_count": 23,
          "metadata": {},
          "output_type": "execute_result"
        }
      ],
      "source": [
        "train_data['generated'].value_counts()"
      ]
    },
    {
      "cell_type": "markdown",
      "source": [
        "### Hence we are finally equipped with 24488 essays of which 14,250 are human written and 10238 are ai-generated"
      ],
      "metadata": {
        "id": "Z-77FI9YEnev"
      },
      "id": "Z-77FI9YEnev"
    },
    {
      "cell_type": "markdown",
      "source": [
        "# Applying Datapreprocessing to Text-data"
      ],
      "metadata": {
        "id": "Q99zpQVPF-OK"
      },
      "id": "Q99zpQVPF-OK"
    },
    {
      "cell_type": "code",
      "execution_count": null,
      "id": "cd65cd7c",
      "metadata": {
        "execution": {
          "iopub.execute_input": "2024-01-15T14:44:08.310169Z",
          "iopub.status.busy": "2024-01-15T14:44:08.309317Z",
          "iopub.status.idle": "2024-01-15T14:45:54.015502Z",
          "shell.execute_reply": "2024-01-15T14:45:54.013905Z"
        },
        "papermill": {
          "duration": 105.74702,
          "end_time": "2024-01-15T14:45:54.037682",
          "exception": false,
          "start_time": "2024-01-15T14:44:08.290662",
          "status": "completed"
        },
        "tags": [],
        "id": "cd65cd7c",
        "outputId": "3600c92e-eacb-43b2-aa9f-188548903f26"
      },
      "outputs": [
        {
          "data": {
            "text/html": [
              "<div>\n",
              "<style scoped>\n",
              "    .dataframe tbody tr th:only-of-type {\n",
              "        vertical-align: middle;\n",
              "    }\n",
              "\n",
              "    .dataframe tbody tr th {\n",
              "        vertical-align: top;\n",
              "    }\n",
              "\n",
              "    .dataframe thead th {\n",
              "        text-align: right;\n",
              "    }\n",
              "</style>\n",
              "<table border=\"1\" class=\"dataframe\">\n",
              "  <thead>\n",
              "    <tr style=\"text-align: right;\">\n",
              "      <th></th>\n",
              "      <th>id</th>\n",
              "      <th>text</th>\n",
              "      <th>generated</th>\n",
              "    </tr>\n",
              "  </thead>\n",
              "  <tbody>\n",
              "    <tr>\n",
              "      <th>0</th>\n",
              "      <td>0059830c</td>\n",
              "      <td>[cars, cars, around, since, became, famous, he...</td>\n",
              "      <td>0</td>\n",
              "    </tr>\n",
              "    <tr>\n",
              "      <th>1</th>\n",
              "      <td>005db917</td>\n",
              "      <td>[transportation, large, necessity, countries, ...</td>\n",
              "      <td>0</td>\n",
              "    </tr>\n",
              "    <tr>\n",
              "      <th>2</th>\n",
              "      <td>008f63e3</td>\n",
              "      <td>[americas, love, affair, vehicles, seems, cool...</td>\n",
              "      <td>0</td>\n",
              "    </tr>\n",
              "    <tr>\n",
              "      <th>3</th>\n",
              "      <td>00940276</td>\n",
              "      <td>[often, ride, car, drive, one, motor, vehicle,...</td>\n",
              "      <td>0</td>\n",
              "    </tr>\n",
              "    <tr>\n",
              "      <th>4</th>\n",
              "      <td>00c39458</td>\n",
              "      <td>[cars, wonderful, thing, perhaps, one, worlds,...</td>\n",
              "      <td>0</td>\n",
              "    </tr>\n",
              "    <tr>\n",
              "      <th>...</th>\n",
              "      <td>...</td>\n",
              "      <td>...</td>\n",
              "      <td>...</td>\n",
              "    </tr>\n",
              "    <tr>\n",
              "      <th>24483</th>\n",
              "      <td>0.518218</td>\n",
              "      <td>[dear, senator, writing, today, express, views...</td>\n",
              "      <td>1</td>\n",
              "    </tr>\n",
              "    <tr>\n",
              "      <th>24484</th>\n",
              "      <td>0.816804</td>\n",
              "      <td>[dear, senator, writing, today, express, suppo...</td>\n",
              "      <td>1</td>\n",
              "    </tr>\n",
              "    <tr>\n",
              "      <th>24485</th>\n",
              "      <td>0.676522</td>\n",
              "      <td>[dear, senator, writing, today, express, stron...</td>\n",
              "      <td>1</td>\n",
              "    </tr>\n",
              "    <tr>\n",
              "      <th>24486</th>\n",
              "      <td>0.44593</td>\n",
              "      <td>[dear, senator, writing, today, express, stron...</td>\n",
              "      <td>1</td>\n",
              "    </tr>\n",
              "    <tr>\n",
              "      <th>24487</th>\n",
              "      <td>0.6022</td>\n",
              "      <td>[dear, senator, writing, today, express, stron...</td>\n",
              "      <td>1</td>\n",
              "    </tr>\n",
              "  </tbody>\n",
              "</table>\n",
              "<p>24488 rows × 3 columns</p>\n",
              "</div>"
            ],
            "text/plain": [
              "             id                                               text  generated\n",
              "0      0059830c  [cars, cars, around, since, became, famous, he...          0\n",
              "1      005db917  [transportation, large, necessity, countries, ...          0\n",
              "2      008f63e3  [americas, love, affair, vehicles, seems, cool...          0\n",
              "3      00940276  [often, ride, car, drive, one, motor, vehicle,...          0\n",
              "4      00c39458  [cars, wonderful, thing, perhaps, one, worlds,...          0\n",
              "...         ...                                                ...        ...\n",
              "24483  0.518218  [dear, senator, writing, today, express, views...          1\n",
              "24484  0.816804  [dear, senator, writing, today, express, suppo...          1\n",
              "24485  0.676522  [dear, senator, writing, today, express, stron...          1\n",
              "24486   0.44593  [dear, senator, writing, today, express, stron...          1\n",
              "24487    0.6022  [dear, senator, writing, today, express, stron...          1\n",
              "\n",
              "[24488 rows x 3 columns]"
            ]
          },
          "execution_count": 24,
          "metadata": {},
          "output_type": "execute_result"
        }
      ],
      "source": [
        "train_data['text'] = train_data['text'].apply(lambda x: preprocess_text(x))\n",
        "train_data"
      ]
    },
    {
      "cell_type": "code",
      "execution_count": null,
      "id": "82f3620a",
      "metadata": {
        "execution": {
          "iopub.execute_input": "2024-01-15T14:45:54.074168Z",
          "iopub.status.busy": "2024-01-15T14:45:54.073697Z",
          "iopub.status.idle": "2024-01-15T14:45:54.583619Z",
          "shell.execute_reply": "2024-01-15T14:45:54.582125Z"
        },
        "papermill": {
          "duration": 0.531998,
          "end_time": "2024-01-15T14:45:54.587005",
          "exception": false,
          "start_time": "2024-01-15T14:45:54.055007",
          "status": "completed"
        },
        "tags": [],
        "id": "82f3620a"
      },
      "outputs": [],
      "source": [
        "train_data['text'] = train_data['text'].apply(lambda x: ' '.join(x))\n",
        "X = train_data['text'].tolist()"
      ]
    },
    {
      "cell_type": "code",
      "execution_count": null,
      "id": "1038c242",
      "metadata": {
        "execution": {
          "iopub.execute_input": "2024-01-15T14:45:54.625952Z",
          "iopub.status.busy": "2024-01-15T14:45:54.624890Z",
          "iopub.status.idle": "2024-01-15T14:45:54.631163Z",
          "shell.execute_reply": "2024-01-15T14:45:54.629889Z"
        },
        "id": "1038c242",
        "papermill": {
          "duration": 0.028369,
          "end_time": "2024-01-15T14:45:54.633822",
          "exception": false,
          "start_time": "2024-01-15T14:45:54.605453",
          "status": "completed"
        },
        "tags": []
      },
      "outputs": [],
      "source": [
        "Y = train_data['generated'].values"
      ]
    },
    {
      "cell_type": "markdown",
      "source": [
        "To convert the Textual data into feature vectors we are using TfidfVectorizer because of its ability to convert raw data into numerical vectors sutable for analysis."
      ],
      "metadata": {
        "id": "J_gzbGhyGOdl"
      },
      "id": "J_gzbGhyGOdl"
    },
    {
      "cell_type": "code",
      "execution_count": null,
      "id": "1e1b494c",
      "metadata": {
        "execution": {
          "iopub.execute_input": "2024-01-15T14:45:54.671469Z",
          "iopub.status.busy": "2024-01-15T14:45:54.670566Z",
          "iopub.status.idle": "2024-01-15T14:46:06.753796Z",
          "shell.execute_reply": "2024-01-15T14:46:06.752636Z"
        },
        "id": "1e1b494c",
        "papermill": {
          "duration": 12.105354,
          "end_time": "2024-01-15T14:46:06.756804",
          "exception": false,
          "start_time": "2024-01-15T14:45:54.651450",
          "status": "completed"
        },
        "tags": []
      },
      "outputs": [],
      "source": [
        "# converting the textual data to feature vectors\n",
        "vectorizer = TfidfVectorizer()\n",
        "vectorizer.fit(X)\n",
        "\n",
        "X = vectorizer.transform(X)"
      ]
    },
    {
      "cell_type": "code",
      "execution_count": null,
      "id": "690c54cf",
      "metadata": {
        "execution": {
          "iopub.execute_input": "2024-01-15T14:46:06.794384Z",
          "iopub.status.busy": "2024-01-15T14:46:06.793828Z",
          "iopub.status.idle": "2024-01-15T14:46:06.801835Z",
          "shell.execute_reply": "2024-01-15T14:46:06.800709Z"
        },
        "id": "690c54cf",
        "outputId": "6912bc1f-db2b-4748-9330-87e411580c19",
        "papermill": {
          "duration": 0.029899,
          "end_time": "2024-01-15T14:46:06.804715",
          "exception": false,
          "start_time": "2024-01-15T14:46:06.774816",
          "status": "completed"
        },
        "tags": []
      },
      "outputs": [
        {
          "data": {
            "text/plain": [
              "<24488x72566 sparse matrix of type '<class 'numpy.float64'>'\n",
              "\twith 2914903 stored elements in Compressed Sparse Row format>"
            ]
          },
          "execution_count": 28,
          "metadata": {},
          "output_type": "execute_result"
        }
      ],
      "source": [
        "X"
      ]
    },
    {
      "cell_type": "code",
      "execution_count": null,
      "id": "d8146f64",
      "metadata": {
        "execution": {
          "iopub.execute_input": "2024-01-15T14:46:06.842100Z",
          "iopub.status.busy": "2024-01-15T14:46:06.841639Z",
          "iopub.status.idle": "2024-01-15T14:46:06.869402Z",
          "shell.execute_reply": "2024-01-15T14:46:06.868162Z"
        },
        "id": "d8146f64",
        "papermill": {
          "duration": 0.050119,
          "end_time": "2024-01-15T14:46:06.872546",
          "exception": false,
          "start_time": "2024-01-15T14:46:06.822427",
          "status": "completed"
        },
        "tags": []
      },
      "outputs": [],
      "source": [
        "from sklearn.feature_extraction.text import TfidfVectorizer\n",
        "from sklearn.model_selection import train_test_split\n",
        "\n",
        "X_train, X_test, y_train, y_test = train_test_split(\n",
        "    X, Y, test_size=0.33, random_state=42\n",
        ")"
      ]
    },
    {
      "cell_type": "markdown",
      "source": [
        "# Model Training"
      ],
      "metadata": {
        "id": "1k0tdP_sI8MH"
      },
      "id": "1k0tdP_sI8MH"
    },
    {
      "cell_type": "markdown",
      "source": [
        "The models that are used here are\n",
        "\n",
        "\n",
        "1.   SGD-classifier-It optimizes the model parameters by iteratively updating them with gradients computed on small batches of training data.it supports various Loss functions\n",
        "\n",
        "2.   MultinomialNB-works on the principle of Bayes theorem and assumes that the features are conditionally independent given the class variable.\n",
        "\n",
        "Voting-classifer  - is a machine learning model that trains on an ensemble of numerous models and predicts an output by computing the average predicted probabilities (soft voting) from its constituent models.\n"
      ],
      "metadata": {
        "id": "PzsIXJuzImKe"
      },
      "id": "PzsIXJuzImKe"
    },
    {
      "cell_type": "code",
      "execution_count": null,
      "id": "d1a7e5c1",
      "metadata": {
        "execution": {
          "iopub.execute_input": "2024-01-15T14:46:06.910674Z",
          "iopub.status.busy": "2024-01-15T14:46:06.909678Z",
          "iopub.status.idle": "2024-01-15T14:46:09.488823Z",
          "shell.execute_reply": "2024-01-15T14:46:09.487654Z"
        },
        "id": "d1a7e5c1",
        "outputId": "dcd452c2-b043-4e3d-e57a-1df2680fe1e8",
        "papermill": {
          "duration": 2.601376,
          "end_time": "2024-01-15T14:46:09.491681",
          "exception": false,
          "start_time": "2024-01-15T14:46:06.890305",
          "status": "completed"
        },
        "tags": []
      },
      "outputs": [
        {
          "data": {
            "text/html": [
              "<style>#sk-container-id-1 {color: black;background-color: white;}#sk-container-id-1 pre{padding: 0;}#sk-container-id-1 div.sk-toggleable {background-color: white;}#sk-container-id-1 label.sk-toggleable__label {cursor: pointer;display: block;width: 100%;margin-bottom: 0;padding: 0.3em;box-sizing: border-box;text-align: center;}#sk-container-id-1 label.sk-toggleable__label-arrow:before {content: \"▸\";float: left;margin-right: 0.25em;color: #696969;}#sk-container-id-1 label.sk-toggleable__label-arrow:hover:before {color: black;}#sk-container-id-1 div.sk-estimator:hover label.sk-toggleable__label-arrow:before {color: black;}#sk-container-id-1 div.sk-toggleable__content {max-height: 0;max-width: 0;overflow: hidden;text-align: left;background-color: #f0f8ff;}#sk-container-id-1 div.sk-toggleable__content pre {margin: 0.2em;color: black;border-radius: 0.25em;background-color: #f0f8ff;}#sk-container-id-1 input.sk-toggleable__control:checked~div.sk-toggleable__content {max-height: 200px;max-width: 100%;overflow: auto;}#sk-container-id-1 input.sk-toggleable__control:checked~label.sk-toggleable__label-arrow:before {content: \"▾\";}#sk-container-id-1 div.sk-estimator input.sk-toggleable__control:checked~label.sk-toggleable__label {background-color: #d4ebff;}#sk-container-id-1 div.sk-label input.sk-toggleable__control:checked~label.sk-toggleable__label {background-color: #d4ebff;}#sk-container-id-1 input.sk-hidden--visually {border: 0;clip: rect(1px 1px 1px 1px);clip: rect(1px, 1px, 1px, 1px);height: 1px;margin: -1px;overflow: hidden;padding: 0;position: absolute;width: 1px;}#sk-container-id-1 div.sk-estimator {font-family: monospace;background-color: #f0f8ff;border: 1px dotted black;border-radius: 0.25em;box-sizing: border-box;margin-bottom: 0.5em;}#sk-container-id-1 div.sk-estimator:hover {background-color: #d4ebff;}#sk-container-id-1 div.sk-parallel-item::after {content: \"\";width: 100%;border-bottom: 1px solid gray;flex-grow: 1;}#sk-container-id-1 div.sk-label:hover label.sk-toggleable__label {background-color: #d4ebff;}#sk-container-id-1 div.sk-serial::before {content: \"\";position: absolute;border-left: 1px solid gray;box-sizing: border-box;top: 0;bottom: 0;left: 50%;z-index: 0;}#sk-container-id-1 div.sk-serial {display: flex;flex-direction: column;align-items: center;background-color: white;padding-right: 0.2em;padding-left: 0.2em;position: relative;}#sk-container-id-1 div.sk-item {position: relative;z-index: 1;}#sk-container-id-1 div.sk-parallel {display: flex;align-items: stretch;justify-content: center;background-color: white;position: relative;}#sk-container-id-1 div.sk-item::before, #sk-container-id-1 div.sk-parallel-item::before {content: \"\";position: absolute;border-left: 1px solid gray;box-sizing: border-box;top: 0;bottom: 0;left: 50%;z-index: -1;}#sk-container-id-1 div.sk-parallel-item {display: flex;flex-direction: column;z-index: 1;position: relative;background-color: white;}#sk-container-id-1 div.sk-parallel-item:first-child::after {align-self: flex-end;width: 50%;}#sk-container-id-1 div.sk-parallel-item:last-child::after {align-self: flex-start;width: 50%;}#sk-container-id-1 div.sk-parallel-item:only-child::after {width: 0;}#sk-container-id-1 div.sk-dashed-wrapped {border: 1px dashed gray;margin: 0 0.4em 0.5em 0.4em;box-sizing: border-box;padding-bottom: 0.4em;background-color: white;}#sk-container-id-1 div.sk-label label {font-family: monospace;font-weight: bold;display: inline-block;line-height: 1.2em;}#sk-container-id-1 div.sk-label-container {text-align: center;}#sk-container-id-1 div.sk-container {/* jupyter's `normalize.less` sets `[hidden] { display: none; }` but bootstrap.min.css set `[hidden] { display: none !important; }` so we also need the `!important` here to be able to override the default hidden behavior on the sphinx rendered scikit-learn.org. See: https://github.com/scikit-learn/scikit-learn/issues/21755 */display: inline-block !important;position: relative;}#sk-container-id-1 div.sk-text-repr-fallback {display: none;}</style><div id=\"sk-container-id-1\" class=\"sk-top-container\"><div class=\"sk-text-repr-fallback\"><pre>VotingClassifier(estimators=[(&#x27;sgd&#x27;,\n",
              "                              SGDClassifier(loss=&#x27;modified_huber&#x27;,\n",
              "                                            max_iter=8000, random_state=42)),\n",
              "                             (&#x27;mnb&#x27;, MultinomialNB(alpha=0.0225))],\n",
              "                 voting=&#x27;soft&#x27;, weights=[0.59, 0.41])</pre><b>In a Jupyter environment, please rerun this cell to show the HTML representation or trust the notebook. <br />On GitHub, the HTML representation is unable to render, please try loading this page with nbviewer.org.</b></div><div class=\"sk-container\" hidden><div class=\"sk-item sk-dashed-wrapped\"><div class=\"sk-label-container\"><div class=\"sk-label sk-toggleable\"><input class=\"sk-toggleable__control sk-hidden--visually\" id=\"sk-estimator-id-1\" type=\"checkbox\" ><label for=\"sk-estimator-id-1\" class=\"sk-toggleable__label sk-toggleable__label-arrow\">VotingClassifier</label><div class=\"sk-toggleable__content\"><pre>VotingClassifier(estimators=[(&#x27;sgd&#x27;,\n",
              "                              SGDClassifier(loss=&#x27;modified_huber&#x27;,\n",
              "                                            max_iter=8000, random_state=42)),\n",
              "                             (&#x27;mnb&#x27;, MultinomialNB(alpha=0.0225))],\n",
              "                 voting=&#x27;soft&#x27;, weights=[0.59, 0.41])</pre></div></div></div><div class=\"sk-parallel\"><div class=\"sk-parallel-item\"><div class=\"sk-item\"><div class=\"sk-label-container\"><div class=\"sk-label sk-toggleable\"><label>sgd</label></div></div><div class=\"sk-serial\"><div class=\"sk-item\"><div class=\"sk-estimator sk-toggleable\"><input class=\"sk-toggleable__control sk-hidden--visually\" id=\"sk-estimator-id-2\" type=\"checkbox\" ><label for=\"sk-estimator-id-2\" class=\"sk-toggleable__label sk-toggleable__label-arrow\">SGDClassifier</label><div class=\"sk-toggleable__content\"><pre>SGDClassifier(loss=&#x27;modified_huber&#x27;, max_iter=8000, random_state=42)</pre></div></div></div></div></div></div><div class=\"sk-parallel-item\"><div class=\"sk-item\"><div class=\"sk-label-container\"><div class=\"sk-label sk-toggleable\"><label>mnb</label></div></div><div class=\"sk-serial\"><div class=\"sk-item\"><div class=\"sk-estimator sk-toggleable\"><input class=\"sk-toggleable__control sk-hidden--visually\" id=\"sk-estimator-id-3\" type=\"checkbox\" ><label for=\"sk-estimator-id-3\" class=\"sk-toggleable__label sk-toggleable__label-arrow\">MultinomialNB</label><div class=\"sk-toggleable__content\"><pre>MultinomialNB(alpha=0.0225)</pre></div></div></div></div></div></div></div></div></div></div>"
            ],
            "text/plain": [
              "VotingClassifier(estimators=[('sgd',\n",
              "                              SGDClassifier(loss='modified_huber',\n",
              "                                            max_iter=8000, random_state=42)),\n",
              "                             ('mnb', MultinomialNB(alpha=0.0225))],\n",
              "                 voting='soft', weights=[0.59, 0.41])"
            ]
          },
          "execution_count": 30,
          "metadata": {},
          "output_type": "execute_result"
        }
      ],
      "source": [
        "from sklearn.linear_model import SGDClassifier\n",
        "from sklearn.linear_model import LogisticRegression\n",
        "from sklearn.metrics import accuracy_score,classification_report\n",
        "from sklearn.linear_model import SGDClassifier\n",
        "from sklearn.naive_bayes import MultinomialNB\n",
        "from sklearn.ensemble import VotingClassifier\n",
        "\n",
        "#lr_model = LogisticRegression()\n",
        "mnb_model=MultinomialNB(alpha=0.0225)\n",
        "sgd_model = SGDClassifier(max_iter=8000, loss=\"modified_huber\", random_state=42)\n",
        "sgd_model2 = SGDClassifier(max_iter=12000, tol=5e-4, loss=\"modified_huber\", class_weight=\"balanced\")\n",
        "sgd_model3 = SGDClassifier(max_iter=15000, tol=3e-4, loss=\"modified_huber\", early_stopping=True)\n",
        "\n",
        "#ensemble = VotingClassifier(estimators=[('lr', lr_model),\n",
        "                                        #('sgd', sgd_model),\n",
        "                                        #('sgd2', sgd_model2),\n",
        "                                        #('sgd3', sgd_model3),\n",
        "                                        #('mnb',mnb_model)\n",
        "                                       #],\n",
        "                            #weights=[0.01,0.20,0.01,0.20,0.31],\n",
        "                            #voting='soft'\n",
        "                           #)\n",
        "ensemble = VotingClassifier(estimators=[('sgd', sgd_model),\n",
        "                                        ('mnb',mnb_model)\n",
        "                                       ],\n",
        "                            weights=[0.59,0.41],\n",
        "                            voting='soft'\n",
        "                           )\n",
        "ensemble.fit(X_train, y_train)\n"
      ]
    },
    {
      "cell_type": "code",
      "execution_count": null,
      "id": "560c0063",
      "metadata": {
        "execution": {
          "iopub.execute_input": "2024-01-15T14:46:09.533838Z",
          "iopub.status.busy": "2024-01-15T14:46:09.532975Z",
          "iopub.status.idle": "2024-01-15T14:46:09.603791Z",
          "shell.execute_reply": "2024-01-15T14:46:09.601812Z"
        },
        "papermill": {
          "duration": 0.09595,
          "end_time": "2024-01-15T14:46:09.606679",
          "exception": false,
          "start_time": "2024-01-15T14:46:09.510729",
          "status": "completed"
        },
        "tags": [],
        "id": "560c0063",
        "outputId": "a47d3e30-b40d-40ca-dbc7-9118f058bde2"
      },
      "outputs": [
        {
          "name": "stdout",
          "output_type": "stream",
          "text": [
            "              precision    recall  f1-score   support\n",
            "\n",
            "           0       0.99      1.00      0.99      4651\n",
            "           1       1.00      0.99      0.99      3431\n",
            "\n",
            "    accuracy                           0.99      8082\n",
            "   macro avg       0.99      0.99      0.99      8082\n",
            "weighted avg       0.99      0.99      0.99      8082\n",
            "\n",
            "0.9933184855233853\n",
            "[1.35247088e-07 9.77915574e-01 8.65231791e-01 ... 6.01380386e-05\n",
            " 9.99182663e-01 1.03963226e-04]\n"
          ]
        }
      ],
      "source": [
        "y_pred=ensemble.predict(X_test)\n",
        "\n",
        "print(classification_report(y_test, y_pred))\n",
        "\n",
        "accuracy = accuracy_score(y_test, y_pred)\n",
        "print(accuracy)\n",
        "\n",
        "predicted_probabilities = ensemble.predict_proba(X_test)[:, 1]\n",
        "print(predicted_probabilities)"
      ]
    },
    {
      "cell_type": "markdown",
      "source": [
        "# Prediciting Test dataset using trained model"
      ],
      "metadata": {
        "id": "EV1EyO_kJJut"
      },
      "id": "EV1EyO_kJJut"
    },
    {
      "cell_type": "code",
      "execution_count": null,
      "id": "4ac16f18",
      "metadata": {
        "execution": {
          "iopub.execute_input": "2024-01-15T14:46:09.645704Z",
          "iopub.status.busy": "2024-01-15T14:46:09.644817Z",
          "iopub.status.idle": "2024-01-15T14:46:09.662612Z",
          "shell.execute_reply": "2024-01-15T14:46:09.661350Z"
        },
        "id": "4ac16f18",
        "outputId": "947265d8-daf7-42f0-bd44-9e638d53d422",
        "papermill": {
          "duration": 0.040572,
          "end_time": "2024-01-15T14:46:09.665632",
          "exception": false,
          "start_time": "2024-01-15T14:46:09.625060",
          "status": "completed"
        },
        "tags": []
      },
      "outputs": [
        {
          "data": {
            "text/html": [
              "<div>\n",
              "<style scoped>\n",
              "    .dataframe tbody tr th:only-of-type {\n",
              "        vertical-align: middle;\n",
              "    }\n",
              "\n",
              "    .dataframe tbody tr th {\n",
              "        vertical-align: top;\n",
              "    }\n",
              "\n",
              "    .dataframe thead th {\n",
              "        text-align: right;\n",
              "    }\n",
              "</style>\n",
              "<table border=\"1\" class=\"dataframe\">\n",
              "  <thead>\n",
              "    <tr style=\"text-align: right;\">\n",
              "      <th></th>\n",
              "      <th>id</th>\n",
              "      <th>prompt_id</th>\n",
              "      <th>text</th>\n",
              "    </tr>\n",
              "  </thead>\n",
              "  <tbody>\n",
              "    <tr>\n",
              "      <th>0</th>\n",
              "      <td>0000aaaa</td>\n",
              "      <td>2</td>\n",
              "      <td>Aaa bbb ccc.</td>\n",
              "    </tr>\n",
              "    <tr>\n",
              "      <th>1</th>\n",
              "      <td>1111bbbb</td>\n",
              "      <td>3</td>\n",
              "      <td>Bbb ccc ddd.</td>\n",
              "    </tr>\n",
              "    <tr>\n",
              "      <th>2</th>\n",
              "      <td>2222cccc</td>\n",
              "      <td>4</td>\n",
              "      <td>CCC ddd eee.</td>\n",
              "    </tr>\n",
              "  </tbody>\n",
              "</table>\n",
              "</div>"
            ],
            "text/plain": [
              "         id  prompt_id          text\n",
              "0  0000aaaa          2  Aaa bbb ccc.\n",
              "1  1111bbbb          3  Bbb ccc ddd.\n",
              "2  2222cccc          4  CCC ddd eee."
            ]
          },
          "execution_count": 32,
          "metadata": {},
          "output_type": "execute_result"
        }
      ],
      "source": [
        "test_essays=pd.read_csv('/kaggle/input/llm-detect-ai-generated-text/test_essays.csv')\n",
        "test_essays"
      ]
    },
    {
      "cell_type": "code",
      "execution_count": null,
      "id": "6f2ba50d",
      "metadata": {
        "execution": {
          "iopub.execute_input": "2024-01-15T14:46:09.705464Z",
          "iopub.status.busy": "2024-01-15T14:46:09.704556Z",
          "iopub.status.idle": "2024-01-15T14:46:09.711504Z",
          "shell.execute_reply": "2024-01-15T14:46:09.710482Z"
        },
        "id": "6f2ba50d",
        "papermill": {
          "duration": 0.029616,
          "end_time": "2024-01-15T14:46:09.714106",
          "exception": false,
          "start_time": "2024-01-15T14:46:09.684490",
          "status": "completed"
        },
        "tags": []
      },
      "outputs": [],
      "source": [
        "sub=test_essays.drop(columns=['prompt_id','text'])\n",
        "X_newtest=test_essays.text"
      ]
    },
    {
      "cell_type": "code",
      "execution_count": null,
      "id": "98eb96fc",
      "metadata": {
        "execution": {
          "iopub.execute_input": "2024-01-15T14:46:09.752924Z",
          "iopub.status.busy": "2024-01-15T14:46:09.752153Z",
          "iopub.status.idle": "2024-01-15T14:46:09.760795Z",
          "shell.execute_reply": "2024-01-15T14:46:09.759612Z"
        },
        "id": "98eb96fc",
        "outputId": "bc732aba-f3c3-427d-b25d-6c1605fd7410",
        "papermill": {
          "duration": 0.030642,
          "end_time": "2024-01-15T14:46:09.763060",
          "exception": false,
          "start_time": "2024-01-15T14:46:09.732418",
          "status": "completed"
        },
        "tags": []
      },
      "outputs": [
        {
          "data": {
            "text/plain": [
              "0    Aaa bbb ccc.\n",
              "1    Bbb ccc ddd.\n",
              "2    CCC ddd eee.\n",
              "Name: text, dtype: object"
            ]
          },
          "execution_count": 34,
          "metadata": {},
          "output_type": "execute_result"
        }
      ],
      "source": [
        "X_newtest"
      ]
    },
    {
      "cell_type": "code",
      "execution_count": null,
      "id": "47bb86c2",
      "metadata": {
        "execution": {
          "iopub.execute_input": "2024-01-15T14:46:09.802437Z",
          "iopub.status.busy": "2024-01-15T14:46:09.801690Z",
          "iopub.status.idle": "2024-01-15T14:46:09.809711Z",
          "shell.execute_reply": "2024-01-15T14:46:09.808882Z"
        },
        "id": "47bb86c2",
        "papermill": {
          "duration": 0.030732,
          "end_time": "2024-01-15T14:46:09.812165",
          "exception": false,
          "start_time": "2024-01-15T14:46:09.781433",
          "status": "completed"
        },
        "tags": []
      },
      "outputs": [],
      "source": [
        "test_essays['text'] = test_essays['text'].apply(lambda x: preprocess_text(x))"
      ]
    },
    {
      "cell_type": "code",
      "execution_count": null,
      "id": "dc10646f",
      "metadata": {
        "execution": {
          "iopub.execute_input": "2024-01-15T14:46:09.850957Z",
          "iopub.status.busy": "2024-01-15T14:46:09.850227Z",
          "iopub.status.idle": "2024-01-15T14:46:09.856430Z",
          "shell.execute_reply": "2024-01-15T14:46:09.855641Z"
        },
        "papermill": {
          "duration": 0.028541,
          "end_time": "2024-01-15T14:46:09.858981",
          "exception": false,
          "start_time": "2024-01-15T14:46:09.830440",
          "status": "completed"
        },
        "tags": [],
        "id": "dc10646f"
      },
      "outputs": [],
      "source": [
        "test_essays['text'] = test_essays['text'].apply(lambda x: ' '.join(x))"
      ]
    },
    {
      "cell_type": "code",
      "execution_count": null,
      "id": "4092c7cf",
      "metadata": {
        "execution": {
          "iopub.execute_input": "2024-01-15T14:46:09.900201Z",
          "iopub.status.busy": "2024-01-15T14:46:09.899741Z",
          "iopub.status.idle": "2024-01-15T14:46:09.905409Z",
          "shell.execute_reply": "2024-01-15T14:46:09.904068Z"
        },
        "id": "4092c7cf",
        "papermill": {
          "duration": 0.028941,
          "end_time": "2024-01-15T14:46:09.907993",
          "exception": false,
          "start_time": "2024-01-15T14:46:09.879052",
          "status": "completed"
        },
        "tags": []
      },
      "outputs": [],
      "source": [
        "X_newtest=test_essays['text'].values"
      ]
    },
    {
      "cell_type": "code",
      "execution_count": null,
      "id": "05faea0a",
      "metadata": {
        "execution": {
          "iopub.execute_input": "2024-01-15T14:46:09.947639Z",
          "iopub.status.busy": "2024-01-15T14:46:09.946905Z",
          "iopub.status.idle": "2024-01-15T14:46:09.953684Z",
          "shell.execute_reply": "2024-01-15T14:46:09.952879Z"
        },
        "id": "05faea0a",
        "papermill": {
          "duration": 0.029382,
          "end_time": "2024-01-15T14:46:09.955978",
          "exception": false,
          "start_time": "2024-01-15T14:46:09.926596",
          "status": "completed"
        },
        "tags": []
      },
      "outputs": [],
      "source": [
        "X_newtest = vectorizer.transform(X_newtest)"
      ]
    },
    {
      "cell_type": "code",
      "execution_count": null,
      "id": "b59d57fd",
      "metadata": {
        "execution": {
          "iopub.execute_input": "2024-01-15T14:46:09.995522Z",
          "iopub.status.busy": "2024-01-15T14:46:09.995036Z",
          "iopub.status.idle": "2024-01-15T14:46:10.005601Z",
          "shell.execute_reply": "2024-01-15T14:46:10.004131Z"
        },
        "id": "b59d57fd",
        "outputId": "d0043775-be81-4999-824d-9999c5066555",
        "papermill": {
          "duration": 0.033746,
          "end_time": "2024-01-15T14:46:10.008285",
          "exception": false,
          "start_time": "2024-01-15T14:46:09.974539",
          "status": "completed"
        },
        "tags": []
      },
      "outputs": [
        {
          "name": "stdout",
          "output_type": "stream",
          "text": [
            "[0.79094795 0.5552065  0.5552065 ]\n"
          ]
        }
      ],
      "source": [
        "y_pred = ensemble.predict(X_newtest)\n",
        "\n",
        "predicted_probabilities = ensemble.predict_proba(X_newtest)[:, 1]\n",
        "print(predicted_probabilities)"
      ]
    },
    {
      "cell_type": "code",
      "execution_count": null,
      "id": "b464a12d",
      "metadata": {
        "execution": {
          "iopub.execute_input": "2024-01-15T14:46:10.048296Z",
          "iopub.status.busy": "2024-01-15T14:46:10.047517Z",
          "iopub.status.idle": "2024-01-15T14:46:10.058196Z",
          "shell.execute_reply": "2024-01-15T14:46:10.057273Z"
        },
        "id": "b464a12d",
        "papermill": {
          "duration": 0.034083,
          "end_time": "2024-01-15T14:46:10.060875",
          "exception": false,
          "start_time": "2024-01-15T14:46:10.026792",
          "status": "completed"
        },
        "tags": []
      },
      "outputs": [],
      "source": [
        "sub=test_essays.drop(columns=['prompt_id','text'])\n",
        "sub['generated']=predicted_probabilities\n",
        "sub.to_csv('submission.csv',index=False)"
      ]
    },
    {
      "cell_type": "markdown",
      "source": [
        "On submitting this prediction I have got the public score of 0.869\n",
        "\n",
        "Initially without datapreprocessing i have used the tf-idf vectoriser and models individually buts got score of 0.81\n",
        "\n",
        "After data prepocessing and fine tuning the  parameters and models i have got the score of 0.869\n",
        "\n",
        "Here is the code which was initially there during the finetuning"
      ],
      "metadata": {
        "id": "87GyH6QdMd5x"
      },
      "id": "87GyH6QdMd5x"
    },
    {
      "cell_type": "code",
      "source": [
        "'''\n",
        "from sklearn.linear_model import SGDClassifier\n",
        "from sklearn.linear_model import LogisticRegression\n",
        "from sklearn.metrics import accuracy_score,classification_report\n",
        "from sklearn.linear_model import SGDClassifier\n",
        "from sklearn.naive_bayes import MultinomialNB\n",
        "from sklearn.ensemble import VotingClassifier\n",
        "\n",
        "lr_model = LogisticRegression()\n",
        "mnb_model=MultinomialNB(alpha=0.0225)\n",
        "sgd_model = SGDClassifier(max_iter=8000, loss=\"modified_huber\", random_state=42)\n",
        "sgd_model2 = SGDClassifier(max_iter=12000, tol=5e-4, loss=\"modified_huber\", class_weight=\"balanced\")\n",
        "sgd_model3 = SGDClassifier(max_iter=15000, tol=3e-4, loss=\"modified_huber\", early_stopping=True)\n",
        "\n",
        "ensemble = VotingClassifier(estimators=[('lr', lr_model),\n",
        "                                        ('sgd', sgd_model),\n",
        "                                        ('sgd2', sgd_model2),\n",
        "                                        ('sgd3', sgd_model3),\n",
        "                                        ('mnb',mnb_model)\n",
        "                                       ],\n",
        "                            weights=[0.20,0.20,0.20,0.20,0.20],\n",
        "                            voting='soft'\n",
        "                           )\n",
        "'''"
      ],
      "metadata": {
        "id": "iLsHuVYdNnt-"
      },
      "id": "iLsHuVYdNnt-",
      "execution_count": null,
      "outputs": []
    },
    {
      "cell_type": "markdown",
      "source": [
        "But finally i ended up with Sgd and mnb with weights 0.59 and 0.41"
      ],
      "metadata": {
        "id": "UFZ-o47WNuE5"
      },
      "id": "UFZ-o47WNuE5"
    }
  ],
  "metadata": {
    "colab": {
      "provenance": [],
      "toc_visible": true
    },
    "kaggle": {
      "accelerator": "none",
      "dataSources": [
        {
          "databundleVersionId": 6888007,
          "sourceId": 61542,
          "sourceType": "competition"
        },
        {
          "datasetId": 3946973,
          "sourceId": 6867914,
          "sourceType": "datasetVersion"
        },
        {
          "datasetId": 4005256,
          "sourceId": 6977472,
          "sourceType": "datasetVersion"
        }
      ],
      "dockerImageVersionId": 30635,
      "isGpuEnabled": false,
      "isInternetEnabled": false,
      "language": "python",
      "sourceType": "notebook"
    },
    "kernelspec": {
      "display_name": "Python 3",
      "language": "python",
      "name": "python3"
    },
    "language_info": {
      "codemirror_mode": {
        "name": "ipython",
        "version": 3
      },
      "file_extension": ".py",
      "mimetype": "text/x-python",
      "name": "python",
      "nbconvert_exporter": "python",
      "pygments_lexer": "ipython3",
      "version": "3.10.12"
    },
    "papermill": {
      "default_parameters": {},
      "duration": 135.092557,
      "end_time": "2024-01-15T14:46:11.304322",
      "environment_variables": {},
      "exception": null,
      "input_path": "__notebook__.ipynb",
      "output_path": "__notebook__.ipynb",
      "parameters": {},
      "start_time": "2024-01-15T14:43:56.211765",
      "version": "2.4.0"
    }
  },
  "nbformat": 4,
  "nbformat_minor": 5
}